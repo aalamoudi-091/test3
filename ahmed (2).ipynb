{
 "cells": [
  {
   "cell_type": "code",
   "execution_count": 1,
   "metadata": {
    "slideshow": {
     "slide_type": "skip"
    }
   },
   "outputs": [],
   "source": [
    "import numpy as np\n",
    "import pandas as pd\n",
    "import matplotlib.pyplot as plt\n",
    "import seaborn as sb\n",
    "import math\n",
    "import time\n",
    "import datetime as dt\n",
    "import datetime\n",
    "\n",
    "%matplotlib inline"
   ]
  },
  {
   "cell_type": "markdown",
   "metadata": {
    "slideshow": {
     "slide_type": "slide"
    }
   },
   "source": [
    "# US Flights of 1987 - 2008"
   ]
  },
  {
   "cell_type": "markdown",
   "metadata": {
    "slideshow": {
     "slide_type": "slide"
    }
   },
   "source": [
    "### This dataset reports flights in the United States, including date , Cancelled , Diverted, originating airport and airports distribution delays, and  for delays,from 1987 to 2008.  This is a large dataset: there are nearly 120 million  However, processing the report is time consuming due to the size of Dataset Therefore, the important parts were analyzed from our point of view and we asked these questions so that we can answer them after analyzing the dataset on them\n",
    "- What is the distribution of flights during daily and months\n",
    "- What is the percentage of canceled and diverted flights compared to completed flights?\n",
    "- What is the distribution of flights for all time periods and in each month\n",
    "- What is the highest, average, and lowest number of flights and More delay for each period of time in every month\n",
    "- What is the top 10 destination cities per month?\n",
    "- What are the top 10 cities in which flight was delayed either originating airport and airports distribution\n",
    "- What is the day, month, and most and least number of flights per period of time"
   ]
  },
  {
   "cell_type": "code",
   "execution_count": 2,
   "metadata": {
    "slideshow": {
     "slide_type": "skip"
    }
   },
   "outputs": [],
   "source": [
    "df=pd.read_csv('1987.csv')"
   ]
  },
  {
   "cell_type": "code",
   "execution_count": 3,
   "metadata": {
    "slideshow": {
     "slide_type": "skip"
    }
   },
   "outputs": [
    {
     "data": {
      "text/html": [
       "<div>\n",
       "<style scoped>\n",
       "    .dataframe tbody tr th:only-of-type {\n",
       "        vertical-align: middle;\n",
       "    }\n",
       "\n",
       "    .dataframe tbody tr th {\n",
       "        vertical-align: top;\n",
       "    }\n",
       "\n",
       "    .dataframe thead th {\n",
       "        text-align: right;\n",
       "    }\n",
       "</style>\n",
       "<table border=\"1\" class=\"dataframe\">\n",
       "  <thead>\n",
       "    <tr style=\"text-align: right;\">\n",
       "      <th></th>\n",
       "      <th>Year</th>\n",
       "      <th>Month</th>\n",
       "      <th>DayofMonth</th>\n",
       "      <th>DayOfWeek</th>\n",
       "      <th>DepTime</th>\n",
       "      <th>CRSDepTime</th>\n",
       "      <th>ArrTime</th>\n",
       "      <th>CRSArrTime</th>\n",
       "      <th>UniqueCarrier</th>\n",
       "      <th>FlightNum</th>\n",
       "      <th>...</th>\n",
       "      <th>TaxiIn</th>\n",
       "      <th>TaxiOut</th>\n",
       "      <th>Cancelled</th>\n",
       "      <th>CancellationCode</th>\n",
       "      <th>Diverted</th>\n",
       "      <th>CarrierDelay</th>\n",
       "      <th>WeatherDelay</th>\n",
       "      <th>NASDelay</th>\n",
       "      <th>SecurityDelay</th>\n",
       "      <th>LateAircraftDelay</th>\n",
       "    </tr>\n",
       "  </thead>\n",
       "  <tbody>\n",
       "    <tr>\n",
       "      <th>0</th>\n",
       "      <td>1987</td>\n",
       "      <td>10</td>\n",
       "      <td>14</td>\n",
       "      <td>3</td>\n",
       "      <td>741.0</td>\n",
       "      <td>730</td>\n",
       "      <td>912.0</td>\n",
       "      <td>849</td>\n",
       "      <td>PS</td>\n",
       "      <td>1451</td>\n",
       "      <td>...</td>\n",
       "      <td>NaN</td>\n",
       "      <td>NaN</td>\n",
       "      <td>0</td>\n",
       "      <td>NaN</td>\n",
       "      <td>0</td>\n",
       "      <td>NaN</td>\n",
       "      <td>NaN</td>\n",
       "      <td>NaN</td>\n",
       "      <td>NaN</td>\n",
       "      <td>NaN</td>\n",
       "    </tr>\n",
       "    <tr>\n",
       "      <th>1</th>\n",
       "      <td>1987</td>\n",
       "      <td>10</td>\n",
       "      <td>15</td>\n",
       "      <td>4</td>\n",
       "      <td>729.0</td>\n",
       "      <td>730</td>\n",
       "      <td>903.0</td>\n",
       "      <td>849</td>\n",
       "      <td>PS</td>\n",
       "      <td>1451</td>\n",
       "      <td>...</td>\n",
       "      <td>NaN</td>\n",
       "      <td>NaN</td>\n",
       "      <td>0</td>\n",
       "      <td>NaN</td>\n",
       "      <td>0</td>\n",
       "      <td>NaN</td>\n",
       "      <td>NaN</td>\n",
       "      <td>NaN</td>\n",
       "      <td>NaN</td>\n",
       "      <td>NaN</td>\n",
       "    </tr>\n",
       "    <tr>\n",
       "      <th>2</th>\n",
       "      <td>1987</td>\n",
       "      <td>10</td>\n",
       "      <td>17</td>\n",
       "      <td>6</td>\n",
       "      <td>741.0</td>\n",
       "      <td>730</td>\n",
       "      <td>918.0</td>\n",
       "      <td>849</td>\n",
       "      <td>PS</td>\n",
       "      <td>1451</td>\n",
       "      <td>...</td>\n",
       "      <td>NaN</td>\n",
       "      <td>NaN</td>\n",
       "      <td>0</td>\n",
       "      <td>NaN</td>\n",
       "      <td>0</td>\n",
       "      <td>NaN</td>\n",
       "      <td>NaN</td>\n",
       "      <td>NaN</td>\n",
       "      <td>NaN</td>\n",
       "      <td>NaN</td>\n",
       "    </tr>\n",
       "    <tr>\n",
       "      <th>3</th>\n",
       "      <td>1987</td>\n",
       "      <td>10</td>\n",
       "      <td>18</td>\n",
       "      <td>7</td>\n",
       "      <td>729.0</td>\n",
       "      <td>730</td>\n",
       "      <td>847.0</td>\n",
       "      <td>849</td>\n",
       "      <td>PS</td>\n",
       "      <td>1451</td>\n",
       "      <td>...</td>\n",
       "      <td>NaN</td>\n",
       "      <td>NaN</td>\n",
       "      <td>0</td>\n",
       "      <td>NaN</td>\n",
       "      <td>0</td>\n",
       "      <td>NaN</td>\n",
       "      <td>NaN</td>\n",
       "      <td>NaN</td>\n",
       "      <td>NaN</td>\n",
       "      <td>NaN</td>\n",
       "    </tr>\n",
       "    <tr>\n",
       "      <th>4</th>\n",
       "      <td>1987</td>\n",
       "      <td>10</td>\n",
       "      <td>19</td>\n",
       "      <td>1</td>\n",
       "      <td>749.0</td>\n",
       "      <td>730</td>\n",
       "      <td>922.0</td>\n",
       "      <td>849</td>\n",
       "      <td>PS</td>\n",
       "      <td>1451</td>\n",
       "      <td>...</td>\n",
       "      <td>NaN</td>\n",
       "      <td>NaN</td>\n",
       "      <td>0</td>\n",
       "      <td>NaN</td>\n",
       "      <td>0</td>\n",
       "      <td>NaN</td>\n",
       "      <td>NaN</td>\n",
       "      <td>NaN</td>\n",
       "      <td>NaN</td>\n",
       "      <td>NaN</td>\n",
       "    </tr>\n",
       "  </tbody>\n",
       "</table>\n",
       "<p>5 rows × 29 columns</p>\n",
       "</div>"
      ],
      "text/plain": [
       "   Year  Month  DayofMonth  DayOfWeek  DepTime  CRSDepTime  ArrTime  \\\n",
       "0  1987     10          14          3    741.0         730    912.0   \n",
       "1  1987     10          15          4    729.0         730    903.0   \n",
       "2  1987     10          17          6    741.0         730    918.0   \n",
       "3  1987     10          18          7    729.0         730    847.0   \n",
       "4  1987     10          19          1    749.0         730    922.0   \n",
       "\n",
       "   CRSArrTime UniqueCarrier  FlightNum  ...  TaxiIn  TaxiOut  Cancelled  \\\n",
       "0         849            PS       1451  ...     NaN      NaN          0   \n",
       "1         849            PS       1451  ...     NaN      NaN          0   \n",
       "2         849            PS       1451  ...     NaN      NaN          0   \n",
       "3         849            PS       1451  ...     NaN      NaN          0   \n",
       "4         849            PS       1451  ...     NaN      NaN          0   \n",
       "\n",
       "   CancellationCode  Diverted  CarrierDelay WeatherDelay NASDelay  \\\n",
       "0               NaN         0           NaN          NaN      NaN   \n",
       "1               NaN         0           NaN          NaN      NaN   \n",
       "2               NaN         0           NaN          NaN      NaN   \n",
       "3               NaN         0           NaN          NaN      NaN   \n",
       "4               NaN         0           NaN          NaN      NaN   \n",
       "\n",
       "   SecurityDelay  LateAircraftDelay  \n",
       "0            NaN                NaN  \n",
       "1            NaN                NaN  \n",
       "2            NaN                NaN  \n",
       "3            NaN                NaN  \n",
       "4            NaN                NaN  \n",
       "\n",
       "[5 rows x 29 columns]"
      ]
     },
     "execution_count": 3,
     "metadata": {},
     "output_type": "execute_result"
    }
   ],
   "source": [
    "df.head()"
   ]
  },
  {
   "cell_type": "code",
   "execution_count": 4,
   "metadata": {
    "slideshow": {
     "slide_type": "skip"
    }
   },
   "outputs": [
    {
     "name": "stdout",
     "output_type": "stream",
     "text": [
      "<class 'pandas.core.frame.DataFrame'>\n",
      "RangeIndex: 1311826 entries, 0 to 1311825\n",
      "Data columns (total 29 columns):\n",
      " #   Column             Non-Null Count    Dtype  \n",
      "---  ------             --------------    -----  \n",
      " 0   Year               1311826 non-null  int64  \n",
      " 1   Month              1311826 non-null  int64  \n",
      " 2   DayofMonth         1311826 non-null  int64  \n",
      " 3   DayOfWeek          1311826 non-null  int64  \n",
      " 4   DepTime            1292141 non-null  float64\n",
      " 5   CRSDepTime         1311826 non-null  int64  \n",
      " 6   ArrTime            1288326 non-null  float64\n",
      " 7   CRSArrTime         1311826 non-null  int64  \n",
      " 8   UniqueCarrier      1311826 non-null  object \n",
      " 9   FlightNum          1311826 non-null  int64  \n",
      " 10  TailNum            0 non-null        float64\n",
      " 11  ActualElapsedTime  1288326 non-null  float64\n",
      " 12  CRSElapsedTime     1311826 non-null  int64  \n",
      " 13  AirTime            0 non-null        float64\n",
      " 14  ArrDelay           1288326 non-null  float64\n",
      " 15  DepDelay           1292141 non-null  float64\n",
      " 16  Origin             1311826 non-null  object \n",
      " 17  Dest               1311826 non-null  object \n",
      " 18  Distance           1310811 non-null  float64\n",
      " 19  TaxiIn             0 non-null        float64\n",
      " 20  TaxiOut            0 non-null        float64\n",
      " 21  Cancelled          1311826 non-null  int64  \n",
      " 22  CancellationCode   0 non-null        float64\n",
      " 23  Diverted           1311826 non-null  int64  \n",
      " 24  CarrierDelay       0 non-null        float64\n",
      " 25  WeatherDelay       0 non-null        float64\n",
      " 26  NASDelay           0 non-null        float64\n",
      " 27  SecurityDelay      0 non-null        float64\n",
      " 28  LateAircraftDelay  0 non-null        float64\n",
      "dtypes: float64(16), int64(10), object(3)\n",
      "memory usage: 290.2+ MB\n"
     ]
    }
   ],
   "source": [
    "df.info()\n"
   ]
  },
  {
   "cell_type": "markdown",
   "metadata": {
    "slideshow": {
     "slide_type": "skip"
    }
   },
   "source": [
    "####  we have some null value"
   ]
  },
  {
   "cell_type": "code",
   "execution_count": 5,
   "metadata": {
    "slideshow": {
     "slide_type": "skip"
    }
   },
   "outputs": [
    {
     "data": {
      "text/plain": [
       "72"
      ]
     },
     "execution_count": 5,
     "metadata": {},
     "output_type": "execute_result"
    }
   ],
   "source": [
    "df.duplicated().sum()\n"
   ]
  },
  {
   "cell_type": "markdown",
   "metadata": {
    "slideshow": {
     "slide_type": "skip"
    }
   },
   "source": [
    "#### we 72 have duplicat value\n"
   ]
  },
  {
   "cell_type": "code",
   "execution_count": 6,
   "metadata": {
    "slideshow": {
     "slide_type": "skip"
    }
   },
   "outputs": [],
   "source": [
    "df_copy =  df.copy()   \n"
   ]
  },
  {
   "cell_type": "markdown",
   "metadata": {
    "slideshow": {
     "slide_type": "skip"
    }
   },
   "source": [
    "we need take copy of dataset"
   ]
  },
  {
   "cell_type": "code",
   "execution_count": 7,
   "metadata": {
    "slideshow": {
     "slide_type": "skip"
    }
   },
   "outputs": [],
   "source": [
    "df_copy=df_copy.drop(columns =['LateAircraftDelay','CRSArrTime','CRSDepTime' , 'CRSElapsedTime','DayofMonth','UniqueCarrier', 'SecurityDelay','CarrierDelay','WeatherDelay','NASDelay','SecurityDelay','CancellationCode','TaxiOut','TaxiIn','AirTime','TailNum'])"
   ]
  },
  {
   "cell_type": "markdown",
   "metadata": {
    "slideshow": {
     "slide_type": "skip"
    }
   },
   "source": [
    "#### Delete columns that we do not need in our analysis"
   ]
  },
  {
   "cell_type": "code",
   "execution_count": 8,
   "metadata": {
    "slideshow": {
     "slide_type": "skip"
    }
   },
   "outputs": [
    {
     "name": "stdout",
     "output_type": "stream",
     "text": [
      "<class 'pandas.core.frame.DataFrame'>\n",
      "RangeIndex: 1311826 entries, 0 to 1311825\n",
      "Data columns (total 14 columns):\n",
      " #   Column             Non-Null Count    Dtype  \n",
      "---  ------             --------------    -----  \n",
      " 0   Year               1311826 non-null  int64  \n",
      " 1   Month              1311826 non-null  int64  \n",
      " 2   DayOfWeek          1311826 non-null  int64  \n",
      " 3   DepTime            1292141 non-null  float64\n",
      " 4   ArrTime            1288326 non-null  float64\n",
      " 5   FlightNum          1311826 non-null  int64  \n",
      " 6   ActualElapsedTime  1288326 non-null  float64\n",
      " 7   ArrDelay           1288326 non-null  float64\n",
      " 8   DepDelay           1292141 non-null  float64\n",
      " 9   Origin             1311826 non-null  object \n",
      " 10  Dest               1311826 non-null  object \n",
      " 11  Distance           1310811 non-null  float64\n",
      " 12  Cancelled          1311826 non-null  int64  \n",
      " 13  Diverted           1311826 non-null  int64  \n",
      "dtypes: float64(6), int64(6), object(2)\n",
      "memory usage: 140.1+ MB\n"
     ]
    }
   ],
   "source": [
    "df_copy.info()\n"
   ]
  },
  {
   "cell_type": "code",
   "execution_count": 9,
   "metadata": {
    "slideshow": {
     "slide_type": "skip"
    }
   },
   "outputs": [
    {
     "data": {
      "text/html": [
       "<div>\n",
       "<style scoped>\n",
       "    .dataframe tbody tr th:only-of-type {\n",
       "        vertical-align: middle;\n",
       "    }\n",
       "\n",
       "    .dataframe tbody tr th {\n",
       "        vertical-align: top;\n",
       "    }\n",
       "\n",
       "    .dataframe thead th {\n",
       "        text-align: right;\n",
       "    }\n",
       "</style>\n",
       "<table border=\"1\" class=\"dataframe\">\n",
       "  <thead>\n",
       "    <tr style=\"text-align: right;\">\n",
       "      <th></th>\n",
       "      <th>Year</th>\n",
       "      <th>Month</th>\n",
       "      <th>DayOfWeek</th>\n",
       "      <th>DepTime</th>\n",
       "      <th>ArrTime</th>\n",
       "      <th>FlightNum</th>\n",
       "      <th>ActualElapsedTime</th>\n",
       "      <th>ArrDelay</th>\n",
       "      <th>DepDelay</th>\n",
       "      <th>Origin</th>\n",
       "      <th>Dest</th>\n",
       "      <th>Distance</th>\n",
       "      <th>Cancelled</th>\n",
       "      <th>Diverted</th>\n",
       "    </tr>\n",
       "  </thead>\n",
       "  <tbody>\n",
       "    <tr>\n",
       "      <th>0</th>\n",
       "      <td>1987</td>\n",
       "      <td>10</td>\n",
       "      <td>3</td>\n",
       "      <td>741.0</td>\n",
       "      <td>912.0</td>\n",
       "      <td>1451</td>\n",
       "      <td>91.0</td>\n",
       "      <td>23.0</td>\n",
       "      <td>11.0</td>\n",
       "      <td>SAN</td>\n",
       "      <td>SFO</td>\n",
       "      <td>447.0</td>\n",
       "      <td>0</td>\n",
       "      <td>0</td>\n",
       "    </tr>\n",
       "    <tr>\n",
       "      <th>1</th>\n",
       "      <td>1987</td>\n",
       "      <td>10</td>\n",
       "      <td>4</td>\n",
       "      <td>729.0</td>\n",
       "      <td>903.0</td>\n",
       "      <td>1451</td>\n",
       "      <td>94.0</td>\n",
       "      <td>14.0</td>\n",
       "      <td>-1.0</td>\n",
       "      <td>SAN</td>\n",
       "      <td>SFO</td>\n",
       "      <td>447.0</td>\n",
       "      <td>0</td>\n",
       "      <td>0</td>\n",
       "    </tr>\n",
       "    <tr>\n",
       "      <th>2</th>\n",
       "      <td>1987</td>\n",
       "      <td>10</td>\n",
       "      <td>6</td>\n",
       "      <td>741.0</td>\n",
       "      <td>918.0</td>\n",
       "      <td>1451</td>\n",
       "      <td>97.0</td>\n",
       "      <td>29.0</td>\n",
       "      <td>11.0</td>\n",
       "      <td>SAN</td>\n",
       "      <td>SFO</td>\n",
       "      <td>447.0</td>\n",
       "      <td>0</td>\n",
       "      <td>0</td>\n",
       "    </tr>\n",
       "    <tr>\n",
       "      <th>3</th>\n",
       "      <td>1987</td>\n",
       "      <td>10</td>\n",
       "      <td>7</td>\n",
       "      <td>729.0</td>\n",
       "      <td>847.0</td>\n",
       "      <td>1451</td>\n",
       "      <td>78.0</td>\n",
       "      <td>-2.0</td>\n",
       "      <td>-1.0</td>\n",
       "      <td>SAN</td>\n",
       "      <td>SFO</td>\n",
       "      <td>447.0</td>\n",
       "      <td>0</td>\n",
       "      <td>0</td>\n",
       "    </tr>\n",
       "    <tr>\n",
       "      <th>4</th>\n",
       "      <td>1987</td>\n",
       "      <td>10</td>\n",
       "      <td>1</td>\n",
       "      <td>749.0</td>\n",
       "      <td>922.0</td>\n",
       "      <td>1451</td>\n",
       "      <td>93.0</td>\n",
       "      <td>33.0</td>\n",
       "      <td>19.0</td>\n",
       "      <td>SAN</td>\n",
       "      <td>SFO</td>\n",
       "      <td>447.0</td>\n",
       "      <td>0</td>\n",
       "      <td>0</td>\n",
       "    </tr>\n",
       "  </tbody>\n",
       "</table>\n",
       "</div>"
      ],
      "text/plain": [
       "   Year  Month  DayOfWeek  DepTime  ArrTime  FlightNum  ActualElapsedTime  \\\n",
       "0  1987     10          3    741.0    912.0       1451               91.0   \n",
       "1  1987     10          4    729.0    903.0       1451               94.0   \n",
       "2  1987     10          6    741.0    918.0       1451               97.0   \n",
       "3  1987     10          7    729.0    847.0       1451               78.0   \n",
       "4  1987     10          1    749.0    922.0       1451               93.0   \n",
       "\n",
       "   ArrDelay  DepDelay Origin Dest  Distance  Cancelled  Diverted  \n",
       "0      23.0      11.0    SAN  SFO     447.0          0         0  \n",
       "1      14.0      -1.0    SAN  SFO     447.0          0         0  \n",
       "2      29.0      11.0    SAN  SFO     447.0          0         0  \n",
       "3      -2.0      -1.0    SAN  SFO     447.0          0         0  \n",
       "4      33.0      19.0    SAN  SFO     447.0          0         0  "
      ]
     },
     "execution_count": 9,
     "metadata": {},
     "output_type": "execute_result"
    }
   ],
   "source": [
    "df_copy.head()"
   ]
  },
  {
   "cell_type": "markdown",
   "metadata": {
    "slideshow": {
     "slide_type": "skip"
    }
   },
   "source": [
    "#### we need to change number of months to name of months and it same of days "
   ]
  },
  {
   "cell_type": "code",
   "execution_count": 10,
   "metadata": {
    "slideshow": {
     "slide_type": "skip"
    }
   },
   "outputs": [],
   "source": [
    "df_copy[\"Month\"]= df_copy[\"Month\"].astype(str) \n"
   ]
  },
  {
   "cell_type": "code",
   "execution_count": 11,
   "metadata": {
    "slideshow": {
     "slide_type": "skip"
    }
   },
   "outputs": [],
   "source": [
    "look_up = {'01': 'Jan', '02': 'Feb', '03': 'Mar', '04': 'Apr', '05': 'May',\n",
    "            '06': 'Jun', '07': 'Jul', '08': 'Aug', '09': 'Sep', '10': 'Oct', '11': 'Nov', '12': 'Dec'}\n",
    "df_copy['Month'] = df_copy['Month'].apply(lambda x: look_up[x])\n"
   ]
  },
  {
   "cell_type": "code",
   "execution_count": 12,
   "metadata": {
    "slideshow": {
     "slide_type": "skip"
    }
   },
   "outputs": [],
   "source": [
    "days = {1:'Mon',2:'Tues',3:'Weds',4:'Thurs',5:'Fri',6:'Sat',7:'Sun'}\n",
    "df_copy['DayOfWeek'] = df_copy['DayOfWeek'].apply(lambda x: days[x])"
   ]
  },
  {
   "cell_type": "code",
   "execution_count": 13,
   "metadata": {
    "scrolled": true,
    "slideshow": {
     "slide_type": "skip"
    }
   },
   "outputs": [
    {
     "data": {
      "text/html": [
       "<div>\n",
       "<style scoped>\n",
       "    .dataframe tbody tr th:only-of-type {\n",
       "        vertical-align: middle;\n",
       "    }\n",
       "\n",
       "    .dataframe tbody tr th {\n",
       "        vertical-align: top;\n",
       "    }\n",
       "\n",
       "    .dataframe thead th {\n",
       "        text-align: right;\n",
       "    }\n",
       "</style>\n",
       "<table border=\"1\" class=\"dataframe\">\n",
       "  <thead>\n",
       "    <tr style=\"text-align: right;\">\n",
       "      <th></th>\n",
       "      <th>Year</th>\n",
       "      <th>Month</th>\n",
       "      <th>DayOfWeek</th>\n",
       "      <th>DepTime</th>\n",
       "      <th>ArrTime</th>\n",
       "      <th>FlightNum</th>\n",
       "      <th>ActualElapsedTime</th>\n",
       "      <th>ArrDelay</th>\n",
       "      <th>DepDelay</th>\n",
       "      <th>Origin</th>\n",
       "      <th>Dest</th>\n",
       "      <th>Distance</th>\n",
       "      <th>Cancelled</th>\n",
       "      <th>Diverted</th>\n",
       "    </tr>\n",
       "  </thead>\n",
       "  <tbody>\n",
       "    <tr>\n",
       "      <th>0</th>\n",
       "      <td>1987</td>\n",
       "      <td>Oct</td>\n",
       "      <td>Weds</td>\n",
       "      <td>741.0</td>\n",
       "      <td>912.0</td>\n",
       "      <td>1451</td>\n",
       "      <td>91.0</td>\n",
       "      <td>23.0</td>\n",
       "      <td>11.0</td>\n",
       "      <td>SAN</td>\n",
       "      <td>SFO</td>\n",
       "      <td>447.0</td>\n",
       "      <td>0</td>\n",
       "      <td>0</td>\n",
       "    </tr>\n",
       "    <tr>\n",
       "      <th>1</th>\n",
       "      <td>1987</td>\n",
       "      <td>Oct</td>\n",
       "      <td>Thurs</td>\n",
       "      <td>729.0</td>\n",
       "      <td>903.0</td>\n",
       "      <td>1451</td>\n",
       "      <td>94.0</td>\n",
       "      <td>14.0</td>\n",
       "      <td>-1.0</td>\n",
       "      <td>SAN</td>\n",
       "      <td>SFO</td>\n",
       "      <td>447.0</td>\n",
       "      <td>0</td>\n",
       "      <td>0</td>\n",
       "    </tr>\n",
       "    <tr>\n",
       "      <th>2</th>\n",
       "      <td>1987</td>\n",
       "      <td>Oct</td>\n",
       "      <td>Sat</td>\n",
       "      <td>741.0</td>\n",
       "      <td>918.0</td>\n",
       "      <td>1451</td>\n",
       "      <td>97.0</td>\n",
       "      <td>29.0</td>\n",
       "      <td>11.0</td>\n",
       "      <td>SAN</td>\n",
       "      <td>SFO</td>\n",
       "      <td>447.0</td>\n",
       "      <td>0</td>\n",
       "      <td>0</td>\n",
       "    </tr>\n",
       "    <tr>\n",
       "      <th>3</th>\n",
       "      <td>1987</td>\n",
       "      <td>Oct</td>\n",
       "      <td>Sun</td>\n",
       "      <td>729.0</td>\n",
       "      <td>847.0</td>\n",
       "      <td>1451</td>\n",
       "      <td>78.0</td>\n",
       "      <td>-2.0</td>\n",
       "      <td>-1.0</td>\n",
       "      <td>SAN</td>\n",
       "      <td>SFO</td>\n",
       "      <td>447.0</td>\n",
       "      <td>0</td>\n",
       "      <td>0</td>\n",
       "    </tr>\n",
       "    <tr>\n",
       "      <th>4</th>\n",
       "      <td>1987</td>\n",
       "      <td>Oct</td>\n",
       "      <td>Mon</td>\n",
       "      <td>749.0</td>\n",
       "      <td>922.0</td>\n",
       "      <td>1451</td>\n",
       "      <td>93.0</td>\n",
       "      <td>33.0</td>\n",
       "      <td>19.0</td>\n",
       "      <td>SAN</td>\n",
       "      <td>SFO</td>\n",
       "      <td>447.0</td>\n",
       "      <td>0</td>\n",
       "      <td>0</td>\n",
       "    </tr>\n",
       "  </tbody>\n",
       "</table>\n",
       "</div>"
      ],
      "text/plain": [
       "   Year Month DayOfWeek  DepTime  ArrTime  FlightNum  ActualElapsedTime  \\\n",
       "0  1987   Oct      Weds    741.0    912.0       1451               91.0   \n",
       "1  1987   Oct     Thurs    729.0    903.0       1451               94.0   \n",
       "2  1987   Oct       Sat    741.0    918.0       1451               97.0   \n",
       "3  1987   Oct       Sun    729.0    847.0       1451               78.0   \n",
       "4  1987   Oct       Mon    749.0    922.0       1451               93.0   \n",
       "\n",
       "   ArrDelay  DepDelay Origin Dest  Distance  Cancelled  Diverted  \n",
       "0      23.0      11.0    SAN  SFO     447.0          0         0  \n",
       "1      14.0      -1.0    SAN  SFO     447.0          0         0  \n",
       "2      29.0      11.0    SAN  SFO     447.0          0         0  \n",
       "3      -2.0      -1.0    SAN  SFO     447.0          0         0  \n",
       "4      33.0      19.0    SAN  SFO     447.0          0         0  "
      ]
     },
     "execution_count": 13,
     "metadata": {},
     "output_type": "execute_result"
    }
   ],
   "source": [
    "df_copy.head()"
   ]
  },
  {
   "cell_type": "code",
   "execution_count": 14,
   "metadata": {
    "slideshow": {
     "slide_type": "skip"
    }
   },
   "outputs": [
    {
     "data": {
      "text/html": [
       "<div>\n",
       "<style scoped>\n",
       "    .dataframe tbody tr th:only-of-type {\n",
       "        vertical-align: middle;\n",
       "    }\n",
       "\n",
       "    .dataframe tbody tr th {\n",
       "        vertical-align: top;\n",
       "    }\n",
       "\n",
       "    .dataframe thead th {\n",
       "        text-align: right;\n",
       "    }\n",
       "</style>\n",
       "<table border=\"1\" class=\"dataframe\">\n",
       "  <thead>\n",
       "    <tr style=\"text-align: right;\">\n",
       "      <th></th>\n",
       "      <th>Year</th>\n",
       "      <th>Month</th>\n",
       "      <th>DayOfWeek</th>\n",
       "      <th>DepTime</th>\n",
       "      <th>ArrTime</th>\n",
       "      <th>FlightNum</th>\n",
       "      <th>ActualElapsedTime</th>\n",
       "      <th>ArrDelay</th>\n",
       "      <th>DepDelay</th>\n",
       "      <th>Origin</th>\n",
       "      <th>Dest</th>\n",
       "      <th>Distance</th>\n",
       "      <th>Cancelled</th>\n",
       "      <th>Diverted</th>\n",
       "      <th>Actual_Departure_Time</th>\n",
       "      <th>Actual_Arrival_Time</th>\n",
       "    </tr>\n",
       "  </thead>\n",
       "  <tbody>\n",
       "    <tr>\n",
       "      <th>0</th>\n",
       "      <td>1987</td>\n",
       "      <td>Oct</td>\n",
       "      <td>Weds</td>\n",
       "      <td>741.0</td>\n",
       "      <td>912.0</td>\n",
       "      <td>1451</td>\n",
       "      <td>91.0</td>\n",
       "      <td>23.0</td>\n",
       "      <td>11.0</td>\n",
       "      <td>SAN</td>\n",
       "      <td>SFO</td>\n",
       "      <td>447.0</td>\n",
       "      <td>0</td>\n",
       "      <td>0</td>\n",
       "      <td>12.350000</td>\n",
       "      <td>15.200000</td>\n",
       "    </tr>\n",
       "    <tr>\n",
       "      <th>1</th>\n",
       "      <td>1987</td>\n",
       "      <td>Oct</td>\n",
       "      <td>Thurs</td>\n",
       "      <td>729.0</td>\n",
       "      <td>903.0</td>\n",
       "      <td>1451</td>\n",
       "      <td>94.0</td>\n",
       "      <td>14.0</td>\n",
       "      <td>-1.0</td>\n",
       "      <td>SAN</td>\n",
       "      <td>SFO</td>\n",
       "      <td>447.0</td>\n",
       "      <td>0</td>\n",
       "      <td>0</td>\n",
       "      <td>12.150000</td>\n",
       "      <td>15.050000</td>\n",
       "    </tr>\n",
       "    <tr>\n",
       "      <th>2</th>\n",
       "      <td>1987</td>\n",
       "      <td>Oct</td>\n",
       "      <td>Sat</td>\n",
       "      <td>741.0</td>\n",
       "      <td>918.0</td>\n",
       "      <td>1451</td>\n",
       "      <td>97.0</td>\n",
       "      <td>29.0</td>\n",
       "      <td>11.0</td>\n",
       "      <td>SAN</td>\n",
       "      <td>SFO</td>\n",
       "      <td>447.0</td>\n",
       "      <td>0</td>\n",
       "      <td>0</td>\n",
       "      <td>12.350000</td>\n",
       "      <td>15.300000</td>\n",
       "    </tr>\n",
       "    <tr>\n",
       "      <th>3</th>\n",
       "      <td>1987</td>\n",
       "      <td>Oct</td>\n",
       "      <td>Sun</td>\n",
       "      <td>729.0</td>\n",
       "      <td>847.0</td>\n",
       "      <td>1451</td>\n",
       "      <td>78.0</td>\n",
       "      <td>-2.0</td>\n",
       "      <td>-1.0</td>\n",
       "      <td>SAN</td>\n",
       "      <td>SFO</td>\n",
       "      <td>447.0</td>\n",
       "      <td>0</td>\n",
       "      <td>0</td>\n",
       "      <td>12.150000</td>\n",
       "      <td>14.116667</td>\n",
       "    </tr>\n",
       "    <tr>\n",
       "      <th>4</th>\n",
       "      <td>1987</td>\n",
       "      <td>Oct</td>\n",
       "      <td>Mon</td>\n",
       "      <td>749.0</td>\n",
       "      <td>922.0</td>\n",
       "      <td>1451</td>\n",
       "      <td>93.0</td>\n",
       "      <td>33.0</td>\n",
       "      <td>19.0</td>\n",
       "      <td>SAN</td>\n",
       "      <td>SFO</td>\n",
       "      <td>447.0</td>\n",
       "      <td>0</td>\n",
       "      <td>0</td>\n",
       "      <td>12.483333</td>\n",
       "      <td>15.366667</td>\n",
       "    </tr>\n",
       "  </tbody>\n",
       "</table>\n",
       "</div>"
      ],
      "text/plain": [
       "   Year Month DayOfWeek  DepTime  ArrTime  FlightNum  ActualElapsedTime  \\\n",
       "0  1987   Oct      Weds    741.0    912.0       1451               91.0   \n",
       "1  1987   Oct     Thurs    729.0    903.0       1451               94.0   \n",
       "2  1987   Oct       Sat    741.0    918.0       1451               97.0   \n",
       "3  1987   Oct       Sun    729.0    847.0       1451               78.0   \n",
       "4  1987   Oct       Mon    749.0    922.0       1451               93.0   \n",
       "\n",
       "   ArrDelay  DepDelay Origin Dest  Distance  Cancelled  Diverted  \\\n",
       "0      23.0      11.0    SAN  SFO     447.0          0         0   \n",
       "1      14.0      -1.0    SAN  SFO     447.0          0         0   \n",
       "2      29.0      11.0    SAN  SFO     447.0          0         0   \n",
       "3      -2.0      -1.0    SAN  SFO     447.0          0         0   \n",
       "4      33.0      19.0    SAN  SFO     447.0          0         0   \n",
       "\n",
       "   Actual_Departure_Time  Actual_Arrival_Time  \n",
       "0              12.350000            15.200000  \n",
       "1              12.150000            15.050000  \n",
       "2              12.350000            15.300000  \n",
       "3              12.150000            14.116667  \n",
       "4              12.483333            15.366667  "
      ]
     },
     "execution_count": 14,
     "metadata": {},
     "output_type": "execute_result"
    }
   ],
   "source": [
    "df_copy['Actual_Departure_Time']=df_copy['DepTime']/60 # Actual_Departure_Time BY hours \n",
    "df_copy['Actual_Arrival_Time']=df_copy['ArrTime']/60 # Actual_Arrival_Time BY hours\n",
    "\n",
    "\n",
    "df_copy['Actual_Departure_Time']=df_copy['Actual_Departure_Time'].astype(float)\n",
    "df_copy['Actual_Arrival_Time']=df_copy['Actual_Arrival_Time'].astype(float)\n",
    "df_copy.head()"
   ]
  },
  {
   "cell_type": "code",
   "execution_count": 15,
   "metadata": {
    "slideshow": {
     "slide_type": "skip"
    }
   },
   "outputs": [
    {
     "name": "stderr",
     "output_type": "stream",
     "text": [
      "<ipython-input-15-5e22c18e674c>:2: SettingWithCopyWarning: \n",
      "A value is trying to be set on a copy of a slice from a DataFrame\n",
      "\n",
      "See the caveats in the documentation: https://pandas.pydata.org/pandas-docs/stable/user_guide/indexing.html#returning-a-view-versus-a-copy\n",
      "  df_copy['period_day'][(df_copy['Actual_Departure_Time'] >= 12) & (df_copy['Actual_Departure_Time'] <= 17)] = 'afternoon'\n",
      "<ipython-input-15-5e22c18e674c>:3: SettingWithCopyWarning: \n",
      "A value is trying to be set on a copy of a slice from a DataFrame\n",
      "\n",
      "See the caveats in the documentation: https://pandas.pydata.org/pandas-docs/stable/user_guide/indexing.html#returning-a-view-versus-a-copy\n",
      "  df_copy['period_day'][(df_copy['Actual_Departure_Time'] >= 18) & (df_copy['Actual_Departure_Time'] <= 23)] = 'night'\n"
     ]
    },
    {
     "data": {
      "text/html": [
       "<div>\n",
       "<style scoped>\n",
       "    .dataframe tbody tr th:only-of-type {\n",
       "        vertical-align: middle;\n",
       "    }\n",
       "\n",
       "    .dataframe tbody tr th {\n",
       "        vertical-align: top;\n",
       "    }\n",
       "\n",
       "    .dataframe thead th {\n",
       "        text-align: right;\n",
       "    }\n",
       "</style>\n",
       "<table border=\"1\" class=\"dataframe\">\n",
       "  <thead>\n",
       "    <tr style=\"text-align: right;\">\n",
       "      <th></th>\n",
       "      <th>Year</th>\n",
       "      <th>Month</th>\n",
       "      <th>DayOfWeek</th>\n",
       "      <th>DepTime</th>\n",
       "      <th>ArrTime</th>\n",
       "      <th>FlightNum</th>\n",
       "      <th>ActualElapsedTime</th>\n",
       "      <th>ArrDelay</th>\n",
       "      <th>DepDelay</th>\n",
       "      <th>Origin</th>\n",
       "      <th>Dest</th>\n",
       "      <th>Distance</th>\n",
       "      <th>Cancelled</th>\n",
       "      <th>Diverted</th>\n",
       "      <th>Actual_Departure_Time</th>\n",
       "      <th>Actual_Arrival_Time</th>\n",
       "      <th>period_day</th>\n",
       "    </tr>\n",
       "  </thead>\n",
       "  <tbody>\n",
       "    <tr>\n",
       "      <th>0</th>\n",
       "      <td>1987</td>\n",
       "      <td>Oct</td>\n",
       "      <td>Weds</td>\n",
       "      <td>741.0</td>\n",
       "      <td>912.0</td>\n",
       "      <td>1451</td>\n",
       "      <td>91.0</td>\n",
       "      <td>23.0</td>\n",
       "      <td>11.0</td>\n",
       "      <td>SAN</td>\n",
       "      <td>SFO</td>\n",
       "      <td>447.0</td>\n",
       "      <td>0</td>\n",
       "      <td>0</td>\n",
       "      <td>12.35</td>\n",
       "      <td>15.2</td>\n",
       "      <td>afternoon</td>\n",
       "    </tr>\n",
       "  </tbody>\n",
       "</table>\n",
       "</div>"
      ],
      "text/plain": [
       "   Year Month DayOfWeek  DepTime  ArrTime  FlightNum  ActualElapsedTime  \\\n",
       "0  1987   Oct      Weds    741.0    912.0       1451               91.0   \n",
       "\n",
       "   ArrDelay  DepDelay Origin Dest  Distance  Cancelled  Diverted  \\\n",
       "0      23.0      11.0    SAN  SFO     447.0          0         0   \n",
       "\n",
       "   Actual_Departure_Time  Actual_Arrival_Time period_day  \n",
       "0                  12.35                 15.2  afternoon  "
      ]
     },
     "execution_count": 15,
     "metadata": {},
     "output_type": "execute_result"
    }
   ],
   "source": [
    "df_copy['period_day'] = 'morning'\n",
    "df_copy['period_day'][(df_copy['Actual_Departure_Time'] >= 12) & (df_copy['Actual_Departure_Time'] <= 17)] = 'afternoon'\n",
    "df_copy['period_day'][(df_copy['Actual_Departure_Time'] >= 18) & (df_copy['Actual_Departure_Time'] <= 23)] = 'night'\n",
    "df_copy.head(1)"
   ]
  },
  {
   "cell_type": "code",
   "execution_count": 16,
   "metadata": {
    "slideshow": {
     "slide_type": "skip"
    }
   },
   "outputs": [
    {
     "data": {
      "text/html": [
       "<div>\n",
       "<style scoped>\n",
       "    .dataframe tbody tr th:only-of-type {\n",
       "        vertical-align: middle;\n",
       "    }\n",
       "\n",
       "    .dataframe tbody tr th {\n",
       "        vertical-align: top;\n",
       "    }\n",
       "\n",
       "    .dataframe thead th {\n",
       "        text-align: right;\n",
       "    }\n",
       "</style>\n",
       "<table border=\"1\" class=\"dataframe\">\n",
       "  <thead>\n",
       "    <tr style=\"text-align: right;\">\n",
       "      <th></th>\n",
       "      <th>Year</th>\n",
       "      <th>Month</th>\n",
       "      <th>DayOfWeek</th>\n",
       "      <th>DepTime</th>\n",
       "      <th>ArrTime</th>\n",
       "      <th>FlightNum</th>\n",
       "      <th>ActualElapsedTime</th>\n",
       "      <th>ArrDelay</th>\n",
       "      <th>DepDelay</th>\n",
       "      <th>Origin</th>\n",
       "      <th>Dest</th>\n",
       "      <th>Distance</th>\n",
       "      <th>Cancelled</th>\n",
       "      <th>Diverted</th>\n",
       "      <th>Actual_Departure_Time</th>\n",
       "      <th>Actual_Arrival_Time</th>\n",
       "      <th>period_day</th>\n",
       "    </tr>\n",
       "  </thead>\n",
       "  <tbody>\n",
       "    <tr>\n",
       "      <th>0</th>\n",
       "      <td>1987</td>\n",
       "      <td>Oct</td>\n",
       "      <td>Weds</td>\n",
       "      <td>741.0</td>\n",
       "      <td>912.0</td>\n",
       "      <td>1451</td>\n",
       "      <td>91.0</td>\n",
       "      <td>23.0</td>\n",
       "      <td>11.0</td>\n",
       "      <td>SAN</td>\n",
       "      <td>SFO</td>\n",
       "      <td>447.0</td>\n",
       "      <td>0</td>\n",
       "      <td>0</td>\n",
       "      <td>12.350000</td>\n",
       "      <td>15.200000</td>\n",
       "      <td>afternoon</td>\n",
       "    </tr>\n",
       "    <tr>\n",
       "      <th>1</th>\n",
       "      <td>1987</td>\n",
       "      <td>Oct</td>\n",
       "      <td>Thurs</td>\n",
       "      <td>729.0</td>\n",
       "      <td>903.0</td>\n",
       "      <td>1451</td>\n",
       "      <td>94.0</td>\n",
       "      <td>14.0</td>\n",
       "      <td>-1.0</td>\n",
       "      <td>SAN</td>\n",
       "      <td>SFO</td>\n",
       "      <td>447.0</td>\n",
       "      <td>0</td>\n",
       "      <td>0</td>\n",
       "      <td>12.150000</td>\n",
       "      <td>15.050000</td>\n",
       "      <td>afternoon</td>\n",
       "    </tr>\n",
       "    <tr>\n",
       "      <th>2</th>\n",
       "      <td>1987</td>\n",
       "      <td>Oct</td>\n",
       "      <td>Sat</td>\n",
       "      <td>741.0</td>\n",
       "      <td>918.0</td>\n",
       "      <td>1451</td>\n",
       "      <td>97.0</td>\n",
       "      <td>29.0</td>\n",
       "      <td>11.0</td>\n",
       "      <td>SAN</td>\n",
       "      <td>SFO</td>\n",
       "      <td>447.0</td>\n",
       "      <td>0</td>\n",
       "      <td>0</td>\n",
       "      <td>12.350000</td>\n",
       "      <td>15.300000</td>\n",
       "      <td>afternoon</td>\n",
       "    </tr>\n",
       "    <tr>\n",
       "      <th>3</th>\n",
       "      <td>1987</td>\n",
       "      <td>Oct</td>\n",
       "      <td>Sun</td>\n",
       "      <td>729.0</td>\n",
       "      <td>847.0</td>\n",
       "      <td>1451</td>\n",
       "      <td>78.0</td>\n",
       "      <td>-2.0</td>\n",
       "      <td>-1.0</td>\n",
       "      <td>SAN</td>\n",
       "      <td>SFO</td>\n",
       "      <td>447.0</td>\n",
       "      <td>0</td>\n",
       "      <td>0</td>\n",
       "      <td>12.150000</td>\n",
       "      <td>14.116667</td>\n",
       "      <td>afternoon</td>\n",
       "    </tr>\n",
       "    <tr>\n",
       "      <th>4</th>\n",
       "      <td>1987</td>\n",
       "      <td>Oct</td>\n",
       "      <td>Mon</td>\n",
       "      <td>749.0</td>\n",
       "      <td>922.0</td>\n",
       "      <td>1451</td>\n",
       "      <td>93.0</td>\n",
       "      <td>33.0</td>\n",
       "      <td>19.0</td>\n",
       "      <td>SAN</td>\n",
       "      <td>SFO</td>\n",
       "      <td>447.0</td>\n",
       "      <td>0</td>\n",
       "      <td>0</td>\n",
       "      <td>12.483333</td>\n",
       "      <td>15.366667</td>\n",
       "      <td>afternoon</td>\n",
       "    </tr>\n",
       "  </tbody>\n",
       "</table>\n",
       "</div>"
      ],
      "text/plain": [
       "   Year Month DayOfWeek  DepTime  ArrTime  FlightNum  ActualElapsedTime  \\\n",
       "0  1987   Oct      Weds    741.0    912.0       1451               91.0   \n",
       "1  1987   Oct     Thurs    729.0    903.0       1451               94.0   \n",
       "2  1987   Oct       Sat    741.0    918.0       1451               97.0   \n",
       "3  1987   Oct       Sun    729.0    847.0       1451               78.0   \n",
       "4  1987   Oct       Mon    749.0    922.0       1451               93.0   \n",
       "\n",
       "   ArrDelay  DepDelay Origin Dest  Distance  Cancelled  Diverted  \\\n",
       "0      23.0      11.0    SAN  SFO     447.0          0         0   \n",
       "1      14.0      -1.0    SAN  SFO     447.0          0         0   \n",
       "2      29.0      11.0    SAN  SFO     447.0          0         0   \n",
       "3      -2.0      -1.0    SAN  SFO     447.0          0         0   \n",
       "4      33.0      19.0    SAN  SFO     447.0          0         0   \n",
       "\n",
       "   Actual_Departure_Time  Actual_Arrival_Time period_day  \n",
       "0              12.350000            15.200000  afternoon  \n",
       "1              12.150000            15.050000  afternoon  \n",
       "2              12.350000            15.300000  afternoon  \n",
       "3              12.150000            14.116667  afternoon  \n",
       "4              12.483333            15.366667  afternoon  "
      ]
     },
     "execution_count": 16,
     "metadata": {},
     "output_type": "execute_result"
    }
   ],
   "source": [
    "df_copy.head()"
   ]
  },
  {
   "cell_type": "code",
   "execution_count": 17,
   "metadata": {
    "slideshow": {
     "slide_type": "skip"
    }
   },
   "outputs": [],
   "source": [
    "cancel_df = df_copy[(df_copy['Actual_Departure_Time']>5) &(df_copy['period_day']=='morning')\n",
    "                             ].groupby(['DayOfWeek', 'Month' ,'period_day']).agg({'FlightNum' : 'count'}).rename(columns={'FlightNum':'count'}).reset_index()"
   ]
  },
  {
   "cell_type": "code",
   "execution_count": 19,
   "metadata": {
    "slideshow": {
     "slide_type": "skip"
    }
   },
   "outputs": [
    {
     "data": {
      "text/plain": [
       "Thurs    200911\n",
       "Mon      190711\n",
       "Tues     190238\n",
       "Weds     190235\n",
       "Fri      184913\n",
       "Sun      181448\n",
       "Sat      173370\n",
       "Name: DayOfWeek, dtype: int64"
      ]
     },
     "execution_count": 19,
     "metadata": {},
     "output_type": "execute_result"
    }
   ],
   "source": [
    "df_copy['DayOfWeek'].value_counts()\n"
   ]
  },
  {
   "cell_type": "markdown",
   "metadata": {
    "slideshow": {
     "slide_type": "slide"
    }
   },
   "source": [
    "\n",
    "## A graph showing the distribution of flights on the days of the week\n",
    "### It is clear to us that Monday was the highest day in the number of flights, and the number of flights was 200911, on Monday 190711, on Thursday 190238, on Friday 184913, on Sunday 181448 and finally the lowest day on Saturday was 173370"
   ]
  },
  {
   "cell_type": "code",
   "execution_count": 18,
   "metadata": {
    "slideshow": {
     "slide_type": "subslide"
    }
   },
   "outputs": [
    {
     "data": {
      "image/png": "[encoded data removed]",
      "text/plain": [
       "<Figure size 432x288 with 1 Axes>"
      ]
     },
     "metadata": {
      "needs_background": "light"
     },
     "output_type": "display_data"
    }
   ],
   "source": [
    "base_color = sb.color_palette()[0]\n",
    "sb.countplot(data=df_copy, x='DayOfWeek', color=base_color)\n",
    "plt.xlabel('weekday')\n",
    "plt.ylabel('Count')\n",
    "plt.title('days distribution');"
   ]
  },
  {
   "cell_type": "code",
   "execution_count": 19,
   "metadata": {
    "slideshow": {
     "slide_type": "skip"
    }
   },
   "outputs": [
    {
     "data": {
      "text/plain": [
       "Oct    448620\n",
       "Dec    440403\n",
       "Nov    422803\n",
       "Name: Month, dtype: int64"
      ]
     },
     "execution_count": 19,
     "metadata": {},
     "output_type": "execute_result"
    }
   ],
   "source": [
    "df_copy['Month'].value_counts()\n"
   ]
  },
  {
   "cell_type": "markdown",
   "metadata": {
    "slideshow": {
     "slide_type": "slide"
    }
   },
   "source": [
    "## A graph showing the distribution of flights on the month \n",
    "### It is clear to us that Oct was the month of most flights, and it reached 448620, a monthDec 440403 while a month comesNov 422803 It is the lowest month with flights"
   ]
  },
  {
   "cell_type": "code",
   "execution_count": 20,
   "metadata": {
    "slideshow": {
     "slide_type": "subslide"
    }
   },
   "outputs": [
    {
     "data": {
      "image/png": "[encoded data removed]",
      "text/plain": [
       "<Figure size 432x288 with 1 Axes>"
      ]
     },
     "metadata": {
      "needs_background": "light"
     },
     "output_type": "display_data"
    }
   ],
   "source": [
    "base_color = sb.color_palette()[0]\n",
    "sb.countplot(data=df_copy, x='Month', color=base_color)\n",
    "plt.xlabel('Month')\n",
    "plt.ylabel('Count')\n",
    "plt.title('Month distribution' , fontsize=12);"
   ]
  },
  {
   "cell_type": "code",
   "execution_count": 21,
   "metadata": {
    "slideshow": {
     "slide_type": "skip"
    }
   },
   "outputs": [
    {
     "data": {
      "text/plain": [
       "0    1292141\n",
       "1      19685\n",
       "Name: Cancelled, dtype: int64"
      ]
     },
     "execution_count": 21,
     "metadata": {},
     "output_type": "execute_result"
    }
   ],
   "source": [
    "df_copy['Cancelled'].value_counts()\n"
   ]
  },
  {
   "cell_type": "code",
   "execution_count": 22,
   "metadata": {
    "slideshow": {
     "slide_type": "skip"
    }
   },
   "outputs": [],
   "source": [
    "not_Cancelled_df = df_copy[df_copy['Cancelled']=='0'\n",
    "                             ].groupby(['Cancelled']).agg({'FlightNum' : 'count'}).rename(columns={'FlightNum':'count'}).reset_index()\n",
    "Cancelled_df = df_copy[df_copy['Cancelled']=='1'\n",
    "                             ].groupby(['Cancelled']).agg({'FlightNum' : 'count'}).rename(columns={'FlightNum':'count'}).reset_index()"
   ]
  },
  {
   "cell_type": "code",
   "execution_count": 23,
   "metadata": {
    "slideshow": {
     "slide_type": "skip"
    }
   },
   "outputs": [],
   "source": [
    "not_Cancelled = df.query('Cancelled == \"0\"')['FlightNum'].count()\n",
    "Cancelledd = df.query('Cancelled == \"1\"')['FlightNum'].count()"
   ]
  },
  {
   "cell_type": "code",
   "execution_count": 24,
   "metadata": {
    "slideshow": {
     "slide_type": "skip"
    }
   },
   "outputs": [],
   "source": [
    "not_Cancelled_per= not_Cancelled/df_copy['FlightNum'].count()\n",
    "Cancelled_per = Cancelledd/df_copy['FlightNum'].count()"
   ]
  },
  {
   "cell_type": "code",
   "execution_count": 25,
   "metadata": {
    "slideshow": {
     "slide_type": "skip"
    }
   },
   "outputs": [
    {
     "data": {
      "text/plain": [
       "0.9849941989257721"
      ]
     },
     "execution_count": 25,
     "metadata": {},
     "output_type": "execute_result"
    }
   ],
   "source": [
    "not_Cancelled_per"
   ]
  },
  {
   "cell_type": "code",
   "execution_count": 26,
   "metadata": {
    "slideshow": {
     "slide_type": "skip"
    }
   },
   "outputs": [
    {
     "data": {
      "text/plain": [
       "0.015005801074227831"
      ]
     },
     "execution_count": 26,
     "metadata": {},
     "output_type": "execute_result"
    }
   ],
   "source": [
    "Cancelled_per"
   ]
  },
  {
   "cell_type": "markdown",
   "metadata": {
    "slideshow": {
     "slide_type": "slide"
    }
   },
   "source": [
    "## Percentage of flights canceled compared to completed flights\n",
    "### It is clear to us that the canceled flights are very few, as the canceled flights reached 19685 out of 1292,141 representing 1%"
   ]
  },
  {
   "cell_type": "code",
   "execution_count": 27,
   "metadata": {
    "slideshow": {
     "slide_type": "subslide"
    }
   },
   "outputs": [
    {
     "name": "stderr",
     "output_type": "stream",
     "text": [
      "<ipython-input-27-760aad382d59>:3: MatplotlibDeprecationWarning: normalize=None does not normalize if the sum is less than 1 but this behavior is deprecated since 3.3 until two minor releases later. After the deprecation period the default value will be normalize=True. To prevent normalization pass normalize=False \n",
      "  plt.pie(percent, labels=name, autopct='%0.f%%', shadow=True, startangle=45);\n"
     ]
    },
    {
     "data": {
      "image/png": "[encoded data removed]",
      "text/plain": [
       "<Figure size 432x288 with 1 Axes>"
      ]
     },
     "metadata": {},
     "output_type": "display_data"
    }
   ],
   "source": [
    "name = ['completed', 'canceled']\n",
    "percent = [ 0.984 , 0.015]\n",
    "plt.pie(percent, labels=name, autopct='%0.f%%', shadow=True, startangle=45);\n",
    "plt.suptitle('Percentage of completed and canceled fot Flights', fontsize=12);"
   ]
  },
  {
   "cell_type": "code",
   "execution_count": 28,
   "metadata": {
    "slideshow": {
     "slide_type": "skip"
    }
   },
   "outputs": [
    {
     "data": {
      "text/plain": [
       "0    1308011\n",
       "1       3815\n",
       "Name: Diverted, dtype: int64"
      ]
     },
     "execution_count": 28,
     "metadata": {},
     "output_type": "execute_result"
    }
   ],
   "source": [
    "df_copy['Diverted'].value_counts()\n"
   ]
  },
  {
   "cell_type": "code",
   "execution_count": 29,
   "metadata": {
    "slideshow": {
     "slide_type": "notes"
    }
   },
   "outputs": [],
   "source": [
    "not_Diverted_df = df_copy[df_copy['Diverted']=='0'\n",
    "                             ].groupby(['Diverted']).agg({'FlightNum' : 'count'}).rename(columns={'FlightNum':'count'}).reset_index()\n",
    "Diverted_df = df_copy[df_copy['Diverted']=='1'\n",
    "                             ].groupby(['Diverted']).agg({'FlightNum' : 'count'}).rename(columns={'FlightNum':'count'}).reset_index()"
   ]
  },
  {
   "cell_type": "code",
   "execution_count": 30,
   "metadata": {
    "slideshow": {
     "slide_type": "skip"
    }
   },
   "outputs": [],
   "source": [
    "not_Diverted = df.query('Diverted == \"0\"')['FlightNum'].count()\n",
    "Divertedd = df.query('Diverted == \"1\"')['FlightNum'].count()"
   ]
  },
  {
   "cell_type": "code",
   "execution_count": 31,
   "metadata": {
    "slideshow": {
     "slide_type": "skip"
    }
   },
   "outputs": [],
   "source": [
    "not_Diverted_per= not_Diverted/df_copy['FlightNum'].count()\n",
    "Divertedd_per = Divertedd/df_copy['FlightNum'].count()"
   ]
  },
  {
   "cell_type": "code",
   "execution_count": 32,
   "metadata": {
    "slideshow": {
     "slide_type": "skip"
    }
   },
   "outputs": [
    {
     "data": {
      "text/plain": [
       "0.9970918399238924"
      ]
     },
     "execution_count": 32,
     "metadata": {},
     "output_type": "execute_result"
    }
   ],
   "source": [
    "not_Diverted_per"
   ]
  },
  {
   "cell_type": "code",
   "execution_count": 33,
   "metadata": {
    "slideshow": {
     "slide_type": "skip"
    }
   },
   "outputs": [
    {
     "data": {
      "text/plain": [
       "0.0029081600761076544"
      ]
     },
     "execution_count": 33,
     "metadata": {},
     "output_type": "execute_result"
    }
   ],
   "source": [
    "Divertedd_per"
   ]
  },
  {
   "cell_type": "markdown",
   "metadata": {
    "slideshow": {
     "slide_type": "slide"
    }
   },
   "source": [
    "## The flights transferred to another destination are very few and may reach 3815 flights out of 1308011 flights, and this is a very small percentage, which is less than 0.029"
   ]
  },
  {
   "cell_type": "code",
   "execution_count": 34,
   "metadata": {
    "slideshow": {
     "slide_type": "subslide"
    }
   },
   "outputs": [
    {
     "name": "stderr",
     "output_type": "stream",
     "text": [
      "<ipython-input-34-910b4757236e>:3: MatplotlibDeprecationWarning: normalize=None does not normalize if the sum is less than 1 but this behavior is deprecated since 3.3 until two minor releases later. After the deprecation period the default value will be normalize=True. To prevent normalization pass normalize=False \n",
      "  plt.pie(percent, labels=name, autopct='%0.1f%%', shadow=True, startangle=45);\n"
     ]
    },
    {
     "data": {
      "image/png": "[encoded data removed]",
      "text/plain": [
       "<Figure size 432x288 with 1 Axes>"
      ]
     },
     "metadata": {},
     "output_type": "display_data"
    }
   ],
   "source": [
    "name = ['completed', 'Diverted']\n",
    "percent = [ 0.9970 , 0.0029]\n",
    "plt.pie(percent, labels=name, autopct='%0.1f%%', shadow=True, startangle=45);\n",
    "plt.suptitle('Percentage of completed and Diverted for Flights ', fontsize=12);"
   ]
  },
  {
   "cell_type": "code",
   "execution_count": 35,
   "metadata": {
    "slideshow": {
     "slide_type": "skip"
    }
   },
   "outputs": [
    {
     "data": {
      "text/plain": [
       "morning      809221\n",
       "afternoon    254464\n",
       "night        248141\n",
       "Name: period_day, dtype: int64"
      ]
     },
     "execution_count": 35,
     "metadata": {},
     "output_type": "execute_result"
    }
   ],
   "source": [
    "df_copy['period_day'].value_counts()\n"
   ]
  },
  {
   "cell_type": "code",
   "execution_count": 36,
   "metadata": {
    "slideshow": {
     "slide_type": "skip"
    }
   },
   "outputs": [
    {
     "data": {
      "text/plain": [
       "morning      275088\n",
       "afternoon     88146\n",
       "night         85386\n",
       "Name: period_day, dtype: int64"
      ]
     },
     "execution_count": 36,
     "metadata": {},
     "output_type": "execute_result"
    }
   ],
   "source": [
    "df_copy[df_copy['Month'] == 'Oct']['period_day'].value_counts()\n"
   ]
  },
  {
   "cell_type": "code",
   "execution_count": 37,
   "metadata": {
    "slideshow": {
     "slide_type": "skip"
    }
   },
   "outputs": [
    {
     "data": {
      "text/plain": [
       "morning      274669\n",
       "afternoon     83841\n",
       "night         81893\n",
       "Name: period_day, dtype: int64"
      ]
     },
     "execution_count": 37,
     "metadata": {},
     "output_type": "execute_result"
    }
   ],
   "source": [
    "df_copy[df_copy['Month'] == 'Dec']['period_day'].value_counts()\n"
   ]
  },
  {
   "cell_type": "code",
   "execution_count": 38,
   "metadata": {
    "slideshow": {
     "slide_type": "skip"
    }
   },
   "outputs": [
    {
     "data": {
      "text/plain": [
       "morning      259464\n",
       "afternoon     82477\n",
       "night         80862\n",
       "Name: period_day, dtype: int64"
      ]
     },
     "execution_count": 38,
     "metadata": {},
     "output_type": "execute_result"
    }
   ],
   "source": [
    "df_copy[df_copy['Month'] == 'Nov']['period_day'].value_counts()\n"
   ]
  },
  {
   "cell_type": "markdown",
   "metadata": {
    "slideshow": {
     "slide_type": "slide"
    }
   },
   "source": [
    "## A graph showing the number of flights for each time period in each month, in the month of October, the number of morning flights is 275088, the number of afternoon flights 88146 and the number of evening flights 85386, while in December the number of morning flights is 274669, the afternoon flights are 83841 and the number of evening flights is 81893, finally in the month of November. The number of morning flights is 259,464, the number of afternoon flights is 8,2477, and the number of evening flights is 80,862"
   ]
  },
  {
   "cell_type": "code",
   "execution_count": 39,
   "metadata": {
    "slideshow": {
     "slide_type": "subslide"
    }
   },
   "outputs": [
    {
     "data": {
      "image/png": "[encoded data removed]",
      "text/plain": [
       "<Figure size 1080x360 with 1 Axes>"
      ]
     },
     "metadata": {
      "needs_background": "light"
     },
     "output_type": "display_data"
    }
   ],
   "source": [
    "plt.figure(figsize=[15,5])\n",
    "sb.countplot(data=df_copy, y='Month', hue='period_day')\n",
    "plt.title('trips for each time period each month' , fontsize=12);"
   ]
  },
  {
   "cell_type": "markdown",
   "metadata": {
    "slideshow": {
     "slide_type": "slide"
    }
   },
   "source": [
    "## Average Actual Elapsed Time in minutes Per time period \n",
    "### The average actual elapsed time for morning trips is 300 minutes and may reach a maximum of 420 minutes, and the average time for noon period 280 minutes, and it may reach a maximum of about 390 minutes, and finally the average time for the night time period is 290 and it may reach a maximum of 450 minutes"
   ]
  },
  {
   "cell_type": "code",
   "execution_count": 40,
   "metadata": {
    "slideshow": {
     "slide_type": "subslide"
    }
   },
   "outputs": [
    {
     "data": {
      "image/png": "[encoded data removed]",
      "text/plain": [
       "<Figure size 432x288 with 1 Axes>"
      ]
     },
     "metadata": {
      "needs_background": "light"
     },
     "output_type": "display_data"
    }
   ],
   "source": [
    "period_day_count = df_copy.groupby([\"ActualElapsedTime\", \"period_day\"]).size().reset_index()\n",
    "\n",
    "sb.boxplot(x='ActualElapsedTime',y='period_day',data=period_day_count)\n",
    "plt.xlim(0,period_day_count['ActualElapsedTime'].quantile(0.90));\n",
    "plt.title('Average trips duration per time period',  fontsize=12);\n",
    "\n",
    "plt.show()"
   ]
  },
  {
   "cell_type": "code",
   "execution_count": 41,
   "metadata": {
    "slideshow": {
     "slide_type": "skip"
    }
   },
   "outputs": [
    {
     "data": {
      "text/plain": [
       "count    1.292141e+06\n",
       "mean     8.063638e+00\n",
       "std      2.402479e+01\n",
       "min     -1.345000e+03\n",
       "25%      0.000000e+00\n",
       "50%      0.000000e+00\n",
       "75%      8.000000e+00\n",
       "max      1.439000e+03\n",
       "Name: DepDelay, dtype: float64"
      ]
     },
     "execution_count": 41,
     "metadata": {},
     "output_type": "execute_result"
    }
   ],
   "source": [
    "df_copy['DepDelay'].describe()"
   ]
  },
  {
   "cell_type": "markdown",
   "metadata": {
    "slideshow": {
     "slide_type": "slide"
    }
   },
   "source": [
    "### Most of the delays in air flight are in the moreing, and at the same time they are the earliest periods, although most flights are night or afternoon, but  The minimum delay  and early period is afternoon "
   ]
  },
  {
   "cell_type": "code",
   "execution_count": 42,
   "metadata": {
    "slideshow": {
     "slide_type": "subslide"
    }
   },
   "outputs": [
    {
     "data": {
      "image/png": "[encoded data removed]",
      "text/plain": [
       "<Figure size 1080x288 with 1 Axes>"
      ]
     },
     "metadata": {
      "needs_background": "light"
     },
     "output_type": "display_data"
    }
   ],
   "source": [
    "plt.figure(figsize=[15,4])\n",
    "\n",
    "step = 10\n",
    "min_val=-20\n",
    "max_val=80\n",
    "ax= sb.boxplot(x='period_day', y='DepDelay'  , data=df_copy , showfliers=False)\n",
    "\n",
    "ax.set_ylim([min_val, max_val]) ;\n"
   ]
  },
  {
   "cell_type": "code",
   "execution_count": 43,
   "metadata": {
    "slideshow": {
     "slide_type": "skip"
    }
   },
   "outputs": [
    {
     "name": "stdout",
     "output_type": "stream",
     "text": [
      "237\n"
     ]
    },
    {
     "data": {
      "text/plain": [
       "ORD    67830\n",
       "ATL    66783\n",
       "DFW    52450\n",
       "LAX    45597\n",
       "DEN    44284\n",
       "SFO    34948\n",
       "STL    32690\n",
       "EWR    31058\n",
       "PHX    30234\n",
       "PIT    29296\n",
       "Name: Dest, dtype: int64"
      ]
     },
     "execution_count": 43,
     "metadata": {},
     "output_type": "execute_result"
    }
   ],
   "source": [
    "print(len(df_copy['Dest'].value_counts()))\n",
    "df_copy['Dest'].value_counts()[0:10]"
   ]
  },
  {
   "cell_type": "code",
   "execution_count": 44,
   "metadata": {
    "slideshow": {
     "slide_type": "skip"
    }
   },
   "outputs": [
    {
     "data": {
      "text/plain": [
       "ORD    67830\n",
       "ATL    66783\n",
       "DFW    52450\n",
       "LAX    45597\n",
       "DEN    44284\n",
       "SFO    34948\n",
       "STL    32690\n",
       "EWR    31058\n",
       "PHX    30234\n",
       "PIT    29296\n",
       "Name: Dest, dtype: int64"
      ]
     },
     "execution_count": 44,
     "metadata": {},
     "output_type": "execute_result"
    }
   ],
   "source": [
    "locs = ['ORD','ATL','DFW','LAX','DEN','SFO','STL','EWR','PHX','PIT'] \n",
    "df_top10 = df_copy.loc[df_copy['Dest'].isin(locs)]\n",
    "df_top10['Dest'].value_counts()\n"
   ]
  },
  {
   "cell_type": "code",
   "execution_count": 45,
   "metadata": {
    "slideshow": {
     "slide_type": "skip"
    }
   },
   "outputs": [
    {
     "data": {
      "text/html": [
       "<div>\n",
       "<style scoped>\n",
       "    .dataframe tbody tr th:only-of-type {\n",
       "        vertical-align: middle;\n",
       "    }\n",
       "\n",
       "    .dataframe tbody tr th {\n",
       "        vertical-align: top;\n",
       "    }\n",
       "\n",
       "    .dataframe thead th {\n",
       "        text-align: right;\n",
       "    }\n",
       "</style>\n",
       "<table border=\"1\" class=\"dataframe\">\n",
       "  <thead>\n",
       "    <tr style=\"text-align: right;\">\n",
       "      <th></th>\n",
       "      <th>Year</th>\n",
       "      <th>Month</th>\n",
       "      <th>DayOfWeek</th>\n",
       "      <th>DepTime</th>\n",
       "      <th>ArrTime</th>\n",
       "      <th>FlightNum</th>\n",
       "      <th>ActualElapsedTime</th>\n",
       "      <th>ArrDelay</th>\n",
       "      <th>DepDelay</th>\n",
       "      <th>Origin</th>\n",
       "      <th>Dest</th>\n",
       "      <th>Distance</th>\n",
       "      <th>Cancelled</th>\n",
       "      <th>Diverted</th>\n",
       "      <th>Actual_Departure_Time</th>\n",
       "      <th>Actual_Arrival_Time</th>\n",
       "      <th>period_day</th>\n",
       "    </tr>\n",
       "  </thead>\n",
       "  <tbody>\n",
       "    <tr>\n",
       "      <th>0</th>\n",
       "      <td>1987</td>\n",
       "      <td>Oct</td>\n",
       "      <td>Weds</td>\n",
       "      <td>741.0</td>\n",
       "      <td>912.0</td>\n",
       "      <td>1451</td>\n",
       "      <td>91.0</td>\n",
       "      <td>23.0</td>\n",
       "      <td>11.0</td>\n",
       "      <td>SAN</td>\n",
       "      <td>SFO</td>\n",
       "      <td>447.0</td>\n",
       "      <td>0</td>\n",
       "      <td>0</td>\n",
       "      <td>12.350000</td>\n",
       "      <td>15.200000</td>\n",
       "      <td>afternoon</td>\n",
       "    </tr>\n",
       "    <tr>\n",
       "      <th>1</th>\n",
       "      <td>1987</td>\n",
       "      <td>Oct</td>\n",
       "      <td>Thurs</td>\n",
       "      <td>729.0</td>\n",
       "      <td>903.0</td>\n",
       "      <td>1451</td>\n",
       "      <td>94.0</td>\n",
       "      <td>14.0</td>\n",
       "      <td>-1.0</td>\n",
       "      <td>SAN</td>\n",
       "      <td>SFO</td>\n",
       "      <td>447.0</td>\n",
       "      <td>0</td>\n",
       "      <td>0</td>\n",
       "      <td>12.150000</td>\n",
       "      <td>15.050000</td>\n",
       "      <td>afternoon</td>\n",
       "    </tr>\n",
       "    <tr>\n",
       "      <th>2</th>\n",
       "      <td>1987</td>\n",
       "      <td>Oct</td>\n",
       "      <td>Sat</td>\n",
       "      <td>741.0</td>\n",
       "      <td>918.0</td>\n",
       "      <td>1451</td>\n",
       "      <td>97.0</td>\n",
       "      <td>29.0</td>\n",
       "      <td>11.0</td>\n",
       "      <td>SAN</td>\n",
       "      <td>SFO</td>\n",
       "      <td>447.0</td>\n",
       "      <td>0</td>\n",
       "      <td>0</td>\n",
       "      <td>12.350000</td>\n",
       "      <td>15.300000</td>\n",
       "      <td>afternoon</td>\n",
       "    </tr>\n",
       "    <tr>\n",
       "      <th>3</th>\n",
       "      <td>1987</td>\n",
       "      <td>Oct</td>\n",
       "      <td>Sun</td>\n",
       "      <td>729.0</td>\n",
       "      <td>847.0</td>\n",
       "      <td>1451</td>\n",
       "      <td>78.0</td>\n",
       "      <td>-2.0</td>\n",
       "      <td>-1.0</td>\n",
       "      <td>SAN</td>\n",
       "      <td>SFO</td>\n",
       "      <td>447.0</td>\n",
       "      <td>0</td>\n",
       "      <td>0</td>\n",
       "      <td>12.150000</td>\n",
       "      <td>14.116667</td>\n",
       "      <td>afternoon</td>\n",
       "    </tr>\n",
       "    <tr>\n",
       "      <th>4</th>\n",
       "      <td>1987</td>\n",
       "      <td>Oct</td>\n",
       "      <td>Mon</td>\n",
       "      <td>749.0</td>\n",
       "      <td>922.0</td>\n",
       "      <td>1451</td>\n",
       "      <td>93.0</td>\n",
       "      <td>33.0</td>\n",
       "      <td>19.0</td>\n",
       "      <td>SAN</td>\n",
       "      <td>SFO</td>\n",
       "      <td>447.0</td>\n",
       "      <td>0</td>\n",
       "      <td>0</td>\n",
       "      <td>12.483333</td>\n",
       "      <td>15.366667</td>\n",
       "      <td>afternoon</td>\n",
       "    </tr>\n",
       "  </tbody>\n",
       "</table>\n",
       "</div>"
      ],
      "text/plain": [
       "   Year Month DayOfWeek  DepTime  ArrTime  FlightNum  ActualElapsedTime  \\\n",
       "0  1987   Oct      Weds    741.0    912.0       1451               91.0   \n",
       "1  1987   Oct     Thurs    729.0    903.0       1451               94.0   \n",
       "2  1987   Oct       Sat    741.0    918.0       1451               97.0   \n",
       "3  1987   Oct       Sun    729.0    847.0       1451               78.0   \n",
       "4  1987   Oct       Mon    749.0    922.0       1451               93.0   \n",
       "\n",
       "   ArrDelay  DepDelay Origin Dest  Distance  Cancelled  Diverted  \\\n",
       "0      23.0      11.0    SAN  SFO     447.0          0         0   \n",
       "1      14.0      -1.0    SAN  SFO     447.0          0         0   \n",
       "2      29.0      11.0    SAN  SFO     447.0          0         0   \n",
       "3      -2.0      -1.0    SAN  SFO     447.0          0         0   \n",
       "4      33.0      19.0    SAN  SFO     447.0          0         0   \n",
       "\n",
       "   Actual_Departure_Time  Actual_Arrival_Time period_day  \n",
       "0              12.350000            15.200000  afternoon  \n",
       "1              12.150000            15.050000  afternoon  \n",
       "2              12.350000            15.300000  afternoon  \n",
       "3              12.150000            14.116667  afternoon  \n",
       "4              12.483333            15.366667  afternoon  "
      ]
     },
     "execution_count": 45,
     "metadata": {},
     "output_type": "execute_result"
    }
   ],
   "source": [
    "df_top10.head()"
   ]
  },
  {
   "cell_type": "markdown",
   "metadata": {
    "slideshow": {
     "slide_type": "slide"
    }
   },
   "source": [
    "## The top 10 cities people prefer and the number of flights for each month\n",
    "### Come first at ORD destination airportThe number of flights reached 67830, ATL and the number of flights reached 66783, which is a very slight difference from the first rank, DFW and the number of flights reached 52450 LAX and the number of flights reached 45597, SFO the number of flights reached 34948, STL and the number of flights reached 32690, EWR and the number of flights reached 31058, PHX, the number of flights reached 30,234, and finally PIT came in tenth place, and the number of flights reached 29,296\n"
   ]
  },
  {
   "cell_type": "code",
   "execution_count": 46,
   "metadata": {
    "slideshow": {
     "slide_type": "subslide"
    }
   },
   "outputs": [
    {
     "name": "stderr",
     "output_type": "stream",
     "text": [
      "C:\\Users\\LENOVO\\anaconda3\\lib\\site-packages\\seaborn\\categorical.py:3704: UserWarning: The `factorplot` function has been renamed to `catplot`. The original name will be removed in a future release. Please update your code. Note that the default `kind` in `factorplot` (`'point'`) has changed `'strip'` in `catplot`.\n",
      "  warnings.warn(msg)\n",
      "C:\\Users\\LENOVO\\anaconda3\\lib\\site-packages\\seaborn\\_decorators.py:36: FutureWarning: Pass the following variable as a keyword arg: x. From version 0.12, the only valid positional argument will be `data`, and passing other arguments without an explicit keyword will result in an error or misinterpretation.\n",
      "  warnings.warn(\n"
     ]
    },
    {
     "data": {
      "image/png": "[encoded data removed]",
      "text/plain": [
       "<Figure size 1800x720 with 10 Axes>"
      ]
     },
     "metadata": {
      "needs_background": "light"
     },
     "output_type": "display_data"
    }
   ],
   "source": [
    "sb.factorplot(\"Month\", col = \"Dest\", col_wrap = 5,data=df_top10 ,kind = \"count\")\n",
    "plt.show()"
   ]
  },
  {
   "cell_type": "markdown",
   "metadata": {
    "slideshow": {
     "slide_type": "slide"
    }
   },
   "source": [
    "## Average, highest and lowest air flights per time period per month\n",
    "### The month of December comes as the highest Actual Elapsed Time, and it may reach approximately two and a half hours, the average is an hour and 40 minutes, while the lowest time may reach an hour and 10 minutes. The lowest time may reach an hour and 10 minutes, and finally the month of October comes as the highest time for Actual Elapsed Time and it may reach approximately two hours and 10 minutes, the average is an hour and a half minutes, while the lowest time may reach an hour and 10 minutes\n"
   ]
  },
  {
   "cell_type": "code",
   "execution_count": 47,
   "metadata": {
    "slideshow": {
     "slide_type": "subslide"
    }
   },
   "outputs": [
    {
     "data": {
      "image/png": "[encoded data removed]",
      "text/plain": [
       "<Figure size 432x288 with 1 Axes>"
      ]
     },
     "metadata": {
      "needs_background": "light"
     },
     "output_type": "display_data"
    }
   ],
   "source": [
    "   sb.boxplot(x='ActualElapsedTime',y='Month',data=df_top10)\n",
    "plt.xlim(0,df_top10['ActualElapsedTime'].quantile(0.90));\n",
    "plt.title('Average duration of trips per month',  fontsize=12);\n",
    "\n",
    "plt.show()"
   ]
  },
  {
   "cell_type": "code",
   "execution_count": 48,
   "metadata": {
    "slideshow": {
     "slide_type": "skip"
    }
   },
   "outputs": [],
   "source": [
    "DepDelay_df = df_copy[(df_copy['DepDelay']<0)\n",
    "                             ].groupby(['Origin', 'DepDelay' ]).agg({'FlightNum' : 'count'}).rename(columns={'FlightNum':'count'}).reset_index()\n",
    "ArrDelay_df = df_copy[(df_copy['DepDelay']<0)\n",
    "                             ].groupby(['Dest', 'ArrDelay' ]).agg({'FlightNum' : 'count'}).rename(columns={'FlightNum':'count'}).reset_index()"
   ]
  },
  {
   "cell_type": "code",
   "execution_count": 49,
   "metadata": {
    "slideshow": {
     "slide_type": "skip"
    }
   },
   "outputs": [
    {
     "data": {
      "text/html": [
       "<div>\n",
       "<style scoped>\n",
       "    .dataframe tbody tr th:only-of-type {\n",
       "        vertical-align: middle;\n",
       "    }\n",
       "\n",
       "    .dataframe tbody tr th {\n",
       "        vertical-align: top;\n",
       "    }\n",
       "\n",
       "    .dataframe thead th {\n",
       "        text-align: right;\n",
       "    }\n",
       "</style>\n",
       "<table border=\"1\" class=\"dataframe\">\n",
       "  <thead>\n",
       "    <tr style=\"text-align: right;\">\n",
       "      <th></th>\n",
       "      <th>Origin</th>\n",
       "      <th>DepDelay</th>\n",
       "      <th>count</th>\n",
       "    </tr>\n",
       "  </thead>\n",
       "  <tbody>\n",
       "    <tr>\n",
       "      <th>0</th>\n",
       "      <td>ABE</td>\n",
       "      <td>-16.0</td>\n",
       "      <td>1</td>\n",
       "    </tr>\n",
       "    <tr>\n",
       "      <th>1</th>\n",
       "      <td>ABE</td>\n",
       "      <td>-12.0</td>\n",
       "      <td>1</td>\n",
       "    </tr>\n",
       "    <tr>\n",
       "      <th>2</th>\n",
       "      <td>ABE</td>\n",
       "      <td>-11.0</td>\n",
       "      <td>4</td>\n",
       "    </tr>\n",
       "    <tr>\n",
       "      <th>3</th>\n",
       "      <td>ABE</td>\n",
       "      <td>-10.0</td>\n",
       "      <td>4</td>\n",
       "    </tr>\n",
       "    <tr>\n",
       "      <th>4</th>\n",
       "      <td>ABE</td>\n",
       "      <td>-9.0</td>\n",
       "      <td>3</td>\n",
       "    </tr>\n",
       "    <tr>\n",
       "      <th>...</th>\n",
       "      <td>...</td>\n",
       "      <td>...</td>\n",
       "      <td>...</td>\n",
       "    </tr>\n",
       "    <tr>\n",
       "      <th>2306</th>\n",
       "      <td>YKM</td>\n",
       "      <td>-3.0</td>\n",
       "      <td>6</td>\n",
       "    </tr>\n",
       "    <tr>\n",
       "      <th>2307</th>\n",
       "      <td>YKM</td>\n",
       "      <td>-2.0</td>\n",
       "      <td>40</td>\n",
       "    </tr>\n",
       "    <tr>\n",
       "      <th>2308</th>\n",
       "      <td>YKM</td>\n",
       "      <td>-1.0</td>\n",
       "      <td>31</td>\n",
       "    </tr>\n",
       "    <tr>\n",
       "      <th>2309</th>\n",
       "      <td>YUM</td>\n",
       "      <td>-5.0</td>\n",
       "      <td>1</td>\n",
       "    </tr>\n",
       "    <tr>\n",
       "      <th>2310</th>\n",
       "      <td>YUM</td>\n",
       "      <td>-1.0</td>\n",
       "      <td>1</td>\n",
       "    </tr>\n",
       "  </tbody>\n",
       "</table>\n",
       "<p>2311 rows × 3 columns</p>\n",
       "</div>"
      ],
      "text/plain": [
       "     Origin  DepDelay  count\n",
       "0       ABE     -16.0      1\n",
       "1       ABE     -12.0      1\n",
       "2       ABE     -11.0      4\n",
       "3       ABE     -10.0      4\n",
       "4       ABE      -9.0      3\n",
       "...     ...       ...    ...\n",
       "2306    YKM      -3.0      6\n",
       "2307    YKM      -2.0     40\n",
       "2308    YKM      -1.0     31\n",
       "2309    YUM      -5.0      1\n",
       "2310    YUM      -1.0      1\n",
       "\n",
       "[2311 rows x 3 columns]"
      ]
     },
     "execution_count": 49,
     "metadata": {},
     "output_type": "execute_result"
    }
   ],
   "source": [
    "DepDelay_df"
   ]
  },
  {
   "cell_type": "code",
   "execution_count": 50,
   "metadata": {
    "slideshow": {
     "slide_type": "skip"
    }
   },
   "outputs": [
    {
     "data": {
      "text/plain": [
       "DCA    35\n",
       "MLI    32\n",
       "FLL    30\n",
       "LGA    29\n",
       "BWI    27\n",
       "       ..\n",
       "GCN     2\n",
       "YUM     2\n",
       "PUB     1\n",
       "DAL     1\n",
       "BTM     1\n",
       "Name: Origin, Length: 232, dtype: int64"
      ]
     },
     "execution_count": 50,
     "metadata": {},
     "output_type": "execute_result"
    }
   ],
   "source": [
    "DepDelay_df['Origin'].value_counts() # Most of the airports that cancel their flights "
   ]
  },
  {
   "cell_type": "code",
   "execution_count": 51,
   "metadata": {
    "slideshow": {
     "slide_type": "skip"
    }
   },
   "outputs": [],
   "source": [
    "Most_Origin_airports_Delay=DepDelay_df['Origin'].value_counts()[0:10]"
   ]
  },
  {
   "cell_type": "code",
   "execution_count": 52,
   "metadata": {
    "slideshow": {
     "slide_type": "skip"
    }
   },
   "outputs": [
    {
     "data": {
      "text/plain": [
       "DCA    35\n",
       "MLI    32\n",
       "FLL    30\n",
       "LGA    29\n",
       "BWI    27\n",
       "GSP    26\n",
       "JFK    26\n",
       "IAD    26\n",
       "OGG    25\n",
       "ATW    24\n",
       "Name: Origin, dtype: int64"
      ]
     },
     "execution_count": 52,
     "metadata": {},
     "output_type": "execute_result"
    }
   ],
   "source": [
    "Most_Origin_airports_Delay"
   ]
  },
  {
   "cell_type": "code",
   "execution_count": 53,
   "metadata": {
    "slideshow": {
     "slide_type": "skip"
    }
   },
   "outputs": [
    {
     "data": {
      "text/plain": [
       "DCA    35\n",
       "MLI    32\n",
       "FLL    30\n",
       "LGA    29\n",
       "BWI    27\n",
       "JFK    26\n",
       "GSP    26\n",
       "IAD    26\n",
       "OGG    25\n",
       "ATW    24\n",
       "Name: Origin, dtype: int64"
      ]
     },
     "execution_count": 53,
     "metadata": {},
     "output_type": "execute_result"
    }
   ],
   "source": [
    "locs = ['DCA','MLI','FLL','LGA','BWI','GSP','IAD','JFK','OGG','ATW'] \n",
    "Most_Origin_airports_Delay = DepDelay_df.loc[DepDelay_df['Origin'].isin(locs)]\n",
    "Most_Origin_airports_Delay['Origin'].value_counts()"
   ]
  },
  {
   "cell_type": "markdown",
   "metadata": {
    "slideshow": {
     "slide_type": "slide"
    }
   },
   "source": [
    "## Most of the  Origin airports that Delay their flights \n",
    "### DCA comesAs the most airport in which flights are delayed, flights are late, 35, DCA delayed flights 35, MLI late 32, FLL late 30, LGA late 29, BWI 27 late flights, then JFK, GSP, IAD with the same number of flights Late 26, OGG Late Flights 25, and finally 10th ATW Late Flights"
   ]
  },
  {
   "cell_type": "code",
   "execution_count": 54,
   "metadata": {
    "slideshow": {
     "slide_type": "subslide"
    }
   },
   "outputs": [
    {
     "data": {
      "image/png": "[encoded data removed]",
      "text/plain": [
       "<Figure size 432x288 with 1 Axes>"
      ]
     },
     "metadata": {
      "needs_background": "light"
     },
     "output_type": "display_data"
    }
   ],
   "source": [
    "base_color = sb.color_palette()[0]\n",
    "sb.countplot(data=Most_Origin_airports_Delay, x='Origin', color=base_color)\n",
    "plt.xlabel('originating airport')\n",
    "plt.ylabel('Count')\n",
    "plt.title('airports distribution' , fontsize=12);"
   ]
  },
  {
   "cell_type": "code",
   "execution_count": 55,
   "metadata": {
    "slideshow": {
     "slide_type": "skip"
    }
   },
   "outputs": [
    {
     "data": {
      "text/html": [
       "<div>\n",
       "<style scoped>\n",
       "    .dataframe tbody tr th:only-of-type {\n",
       "        vertical-align: middle;\n",
       "    }\n",
       "\n",
       "    .dataframe tbody tr th {\n",
       "        vertical-align: top;\n",
       "    }\n",
       "\n",
       "    .dataframe thead th {\n",
       "        text-align: right;\n",
       "    }\n",
       "</style>\n",
       "<table border=\"1\" class=\"dataframe\">\n",
       "  <thead>\n",
       "    <tr style=\"text-align: right;\">\n",
       "      <th></th>\n",
       "      <th>Dest</th>\n",
       "      <th>ArrDelay</th>\n",
       "      <th>count</th>\n",
       "    </tr>\n",
       "  </thead>\n",
       "  <tbody>\n",
       "    <tr>\n",
       "      <th>0</th>\n",
       "      <td>ABE</td>\n",
       "      <td>-20.0</td>\n",
       "      <td>1</td>\n",
       "    </tr>\n",
       "    <tr>\n",
       "      <th>1</th>\n",
       "      <td>ABE</td>\n",
       "      <td>-16.0</td>\n",
       "      <td>2</td>\n",
       "    </tr>\n",
       "    <tr>\n",
       "      <th>2</th>\n",
       "      <td>ABE</td>\n",
       "      <td>-15.0</td>\n",
       "      <td>3</td>\n",
       "    </tr>\n",
       "    <tr>\n",
       "      <th>3</th>\n",
       "      <td>ABE</td>\n",
       "      <td>-14.0</td>\n",
       "      <td>5</td>\n",
       "    </tr>\n",
       "    <tr>\n",
       "      <th>4</th>\n",
       "      <td>ABE</td>\n",
       "      <td>-13.0</td>\n",
       "      <td>2</td>\n",
       "    </tr>\n",
       "    <tr>\n",
       "      <th>...</th>\n",
       "      <td>...</td>\n",
       "      <td>...</td>\n",
       "      <td>...</td>\n",
       "    </tr>\n",
       "    <tr>\n",
       "      <th>9111</th>\n",
       "      <td>YKM</td>\n",
       "      <td>7.0</td>\n",
       "      <td>1</td>\n",
       "    </tr>\n",
       "    <tr>\n",
       "      <th>9112</th>\n",
       "      <td>YKM</td>\n",
       "      <td>8.0</td>\n",
       "      <td>1</td>\n",
       "    </tr>\n",
       "    <tr>\n",
       "      <th>9113</th>\n",
       "      <td>YKM</td>\n",
       "      <td>9.0</td>\n",
       "      <td>1</td>\n",
       "    </tr>\n",
       "    <tr>\n",
       "      <th>9114</th>\n",
       "      <td>YKM</td>\n",
       "      <td>12.0</td>\n",
       "      <td>1</td>\n",
       "    </tr>\n",
       "    <tr>\n",
       "      <th>9115</th>\n",
       "      <td>YUM</td>\n",
       "      <td>2.0</td>\n",
       "      <td>1</td>\n",
       "    </tr>\n",
       "  </tbody>\n",
       "</table>\n",
       "<p>9116 rows × 3 columns</p>\n",
       "</div>"
      ],
      "text/plain": [
       "     Dest  ArrDelay  count\n",
       "0     ABE     -20.0      1\n",
       "1     ABE     -16.0      2\n",
       "2     ABE     -15.0      3\n",
       "3     ABE     -14.0      5\n",
       "4     ABE     -13.0      2\n",
       "...   ...       ...    ...\n",
       "9111  YKM       7.0      1\n",
       "9112  YKM       8.0      1\n",
       "9113  YKM       9.0      1\n",
       "9114  YKM      12.0      1\n",
       "9115  YUM       2.0      1\n",
       "\n",
       "[9116 rows x 3 columns]"
      ]
     },
     "execution_count": 55,
     "metadata": {},
     "output_type": "execute_result"
    }
   ],
   "source": [
    "ArrDelay_df"
   ]
  },
  {
   "cell_type": "code",
   "execution_count": 56,
   "metadata": {
    "slideshow": {
     "slide_type": "skip"
    }
   },
   "outputs": [],
   "source": [
    "Most_Dest_airports_Delay=ArrDelay_df['Dest'].value_counts()[0:10]"
   ]
  },
  {
   "cell_type": "code",
   "execution_count": 57,
   "metadata": {
    "slideshow": {
     "slide_type": "skip"
    }
   },
   "outputs": [
    {
     "data": {
      "text/plain": [
       "DEN    120\n",
       "SFO    116\n",
       "LAX    113\n",
       "ORD    108\n",
       "LGA    101\n",
       "IAH     97\n",
       "EWR     96\n",
       "DFW     95\n",
       "STL     95\n",
       "JFK     95\n",
       "Name: Dest, dtype: int64"
      ]
     },
     "execution_count": 57,
     "metadata": {},
     "output_type": "execute_result"
    }
   ],
   "source": [
    "Most_Dest_airports_Delay"
   ]
  },
  {
   "cell_type": "code",
   "execution_count": 58,
   "metadata": {
    "slideshow": {
     "slide_type": "skip"
    }
   },
   "outputs": [
    {
     "data": {
      "text/plain": [
       "DEN    120\n",
       "SFO    116\n",
       "LAX    113\n",
       "ORD    108\n",
       "LGA    101\n",
       "IAH     97\n",
       "EWR     96\n",
       "DFW     95\n",
       "JFK     95\n",
       "STL     95\n",
       "Name: Dest, dtype: int64"
      ]
     },
     "execution_count": 58,
     "metadata": {},
     "output_type": "execute_result"
    }
   ],
   "source": [
    "locs = ['DEN','SFO','LAX','ORD','LGA','IAH','EWR','DFW','STL','JFK'] \n",
    "Most_Dest_airports_Delay = ArrDelay_df.loc[ArrDelay_df['Dest'].isin(locs)]\n",
    "Most_Dest_airports_Delay['Dest'].value_counts()"
   ]
  },
  {
   "cell_type": "markdown",
   "metadata": {
    "slideshow": {
     "slide_type": "slide"
    }
   },
   "source": [
    "## Most of the  destination airport  that Delay their flights \n",
    "### DEN comes As the most airport in which flights are delayed, delayed flights reached 120, SFO delayed flights were 116, LAX delayed flights 113, ORD delayed flights 108, LGA delayed flights 101, IAH delayed flights 97, EWR delayed flights 96 JFK and then came the last three airports DFW JFK, STL equal number of delayed flights 95"
   ]
  },
  {
   "cell_type": "code",
   "execution_count": 59,
   "metadata": {
    "slideshow": {
     "slide_type": "subslide"
    }
   },
   "outputs": [
    {
     "data": {
      "image/png": "[encoded data removed]",
      "text/plain": [
       "<Figure size 432x288 with 1 Axes>"
      ]
     },
     "metadata": {
      "needs_background": "light"
     },
     "output_type": "display_data"
    }
   ],
   "source": [
    "base_color = sb.color_palette()[0]\n",
    "sb.countplot(data=Most_Dest_airports_Delay, x='Dest', color=base_color)\n",
    "plt.xlabel('destination airport ')\n",
    "plt.ylabel('Count')\n",
    "plt.title('airports distribution' , fontsize=12);"
   ]
  },
  {
   "cell_type": "code",
   "execution_count": 60,
   "metadata": {
    "slideshow": {
     "slide_type": "subslide"
    }
   },
   "outputs": [],
   "source": [
    "# Just set a condition in the morning So we eant strt from 6 AM ()\n",
    "morning_df = df_copy[(df_copy['period_day']=='morning')\n",
    "                             ].groupby(['DayOfWeek', 'Month' ,'period_day']).agg({'FlightNum' : 'count'}).rename(columns={'FlightNum':'count'}).reset_index()\n",
    "afternoon_df = df_copy[(df_copy['period_day']=='afternoon')\n",
    "                             ].groupby(['DayOfWeek', 'Month' ,'period_day']).agg({'FlightNum' : 'count'}).rename(columns={'FlightNum':'count'}).reset_index()\n",
    "night_df = df_copy[(df_copy['period_day']=='night')\n",
    "                             ].groupby(['DayOfWeek', 'Month' ,'period_day']).agg({'FlightNum' : 'count'}).rename(columns={'FlightNum':'count'}).reset_index()"
   ]
  },
  {
   "cell_type": "markdown",
   "metadata": {
    "slideshow": {
     "slide_type": "slide"
    }
   },
   "source": [
    "### The number of flights for each day in every month in each time period was the highest number of flights in the morning period on Thursday in the month of December and the number of flights reached 44,947 while the number of flights was on Monday, and from December the number of flights was 31175. The afternoon flight on Tuesday in October was the most on the day of the number of flights, and the number of flights reached 14587, while the lowest number was on Monday from December, and the number of flights reached 9976, and finally the evening period on Tuesday in October was the most day of flights, and it reached 13,885. While the number of flights was on Saturday, the lowest was 10456\n"
   ]
  },
  {
   "cell_type": "code",
   "execution_count": 61,
   "metadata": {
    "slideshow": {
     "slide_type": "subslide"
    }
   },
   "outputs": [
    {
     "data": {
      "image/png": "[encoded data removed]",
      "text/plain": [
       "<Figure size 1584x288 with 6 Axes>"
      ]
     },
     "metadata": {
      "needs_background": "light"
     },
     "output_type": "display_data"
    }
   ],
   "source": [
    "f = plt.figure(figsize=(22,4))\n",
    "\n",
    "ax = f.add_subplot(1,3,1) \n",
    "\n",
    "heat_map_morning=morning_df.pivot('Month','DayOfWeek','count')\n",
    "dis=sb.heatmap(heat_map_morning,annot=True , fmt='d' )\n",
    "plt.title('Number of morning trips per hour with days' , fontsize= 13)\n",
    "ax2 = f.add_subplot(1,3,2) \n",
    "heat_map_afternoon=afternoon_df.pivot('Month','DayOfWeek','count')\n",
    "dis=sb.heatmap(heat_map_afternoon,annot=True , fmt='d' )\n",
    "plt.title('Number of afternoon trips per hour with days' ,fontsize=13)\n",
    "\n",
    "ax3 = f.add_subplot(1,3,3) \n",
    "heat_map_night=night_df.pivot('Month','DayOfWeek','count' )\n",
    "dis=sb.heatmap(heat_map_night,annot=True , fmt='d' )\n",
    "plt.title('Number of night trips per hour with days' ,  fontsize=13);"
   ]
  },
  {
   "cell_type": "code",
   "execution_count": 88,
   "metadata": {},
   "outputs": [],
   "source": [
    "\n",
    "Cancelled = df_copy[(df_copy['Cancelled']>0)\n",
    "                             ].groupby(['Dest' ,'Month']).agg({'FlightNum' : 'count'}).rename(columns={'FlightNum':'count'}).reset_index()"
   ]
  },
  {
   "cell_type": "code",
   "execution_count": 89,
   "metadata": {},
   "outputs": [
    {
     "data": {
      "text/html": [
       "<div>\n",
       "<style scoped>\n",
       "    .dataframe tbody tr th:only-of-type {\n",
       "        vertical-align: middle;\n",
       "    }\n",
       "\n",
       "    .dataframe tbody tr th {\n",
       "        vertical-align: top;\n",
       "    }\n",
       "\n",
       "    .dataframe thead th {\n",
       "        text-align: right;\n",
       "    }\n",
       "</style>\n",
       "<table border=\"1\" class=\"dataframe\">\n",
       "  <thead>\n",
       "    <tr style=\"text-align: right;\">\n",
       "      <th></th>\n",
       "      <th>Dest</th>\n",
       "      <th>Month</th>\n",
       "      <th>count</th>\n",
       "    </tr>\n",
       "  </thead>\n",
       "  <tbody>\n",
       "    <tr>\n",
       "      <th>0</th>\n",
       "      <td>ABE</td>\n",
       "      <td>Dec</td>\n",
       "      <td>12</td>\n",
       "    </tr>\n",
       "    <tr>\n",
       "      <th>1</th>\n",
       "      <td>ABE</td>\n",
       "      <td>Nov</td>\n",
       "      <td>2</td>\n",
       "    </tr>\n",
       "    <tr>\n",
       "      <th>2</th>\n",
       "      <td>ABE</td>\n",
       "      <td>Oct</td>\n",
       "      <td>1</td>\n",
       "    </tr>\n",
       "    <tr>\n",
       "      <th>3</th>\n",
       "      <td>ABQ</td>\n",
       "      <td>Dec</td>\n",
       "      <td>69</td>\n",
       "    </tr>\n",
       "    <tr>\n",
       "      <th>4</th>\n",
       "      <td>ABQ</td>\n",
       "      <td>Nov</td>\n",
       "      <td>24</td>\n",
       "    </tr>\n",
       "    <tr>\n",
       "      <th>...</th>\n",
       "      <td>...</td>\n",
       "      <td>...</td>\n",
       "      <td>...</td>\n",
       "    </tr>\n",
       "    <tr>\n",
       "      <th>615</th>\n",
       "      <td>YKM</td>\n",
       "      <td>Dec</td>\n",
       "      <td>2</td>\n",
       "    </tr>\n",
       "    <tr>\n",
       "      <th>616</th>\n",
       "      <td>YKM</td>\n",
       "      <td>Nov</td>\n",
       "      <td>1</td>\n",
       "    </tr>\n",
       "    <tr>\n",
       "      <th>617</th>\n",
       "      <td>YUM</td>\n",
       "      <td>Dec</td>\n",
       "      <td>2</td>\n",
       "    </tr>\n",
       "    <tr>\n",
       "      <th>618</th>\n",
       "      <td>YUM</td>\n",
       "      <td>Nov</td>\n",
       "      <td>3</td>\n",
       "    </tr>\n",
       "    <tr>\n",
       "      <th>619</th>\n",
       "      <td>YUM</td>\n",
       "      <td>Oct</td>\n",
       "      <td>8</td>\n",
       "    </tr>\n",
       "  </tbody>\n",
       "</table>\n",
       "<p>620 rows × 3 columns</p>\n",
       "</div>"
      ],
      "text/plain": [
       "    Dest Month  count\n",
       "0    ABE   Dec     12\n",
       "1    ABE   Nov      2\n",
       "2    ABE   Oct      1\n",
       "3    ABQ   Dec     69\n",
       "4    ABQ   Nov     24\n",
       "..   ...   ...    ...\n",
       "615  YKM   Dec      2\n",
       "616  YKM   Nov      1\n",
       "617  YUM   Dec      2\n",
       "618  YUM   Nov      3\n",
       "619  YUM   Oct      8\n",
       "\n",
       "[620 rows x 3 columns]"
      ]
     },
     "execution_count": 89,
     "metadata": {},
     "output_type": "execute_result"
    }
   ],
   "source": [
    "Cancelled"
   ]
  },
  {
   "cell_type": "code",
   "execution_count": 109,
   "metadata": {},
   "outputs": [
    {
     "data": {
      "text/plain": [
       "Dest  Month  count\n",
       "YUM   Oct    8        1\n",
       "dtype: int64"
      ]
     },
     "execution_count": 109,
     "metadata": {},
     "output_type": "execute_result"
    }
   ],
   "source": [
    "Cancelled.value_counts()[0:1]"
   ]
  },
  {
   "cell_type": "code",
   "execution_count": 147,
   "metadata": {
    "slideshow": {
     "slide_type": "skip"
    }
   },
   "outputs": [
    {
     "data": {
      "text/plain": [
       "count  Dest  Month\n",
       "257    DCA   Nov      1\n",
       "289    DTW   Dec      1\n",
       "337    ATL   Nov      1\n",
       "393    DEN   Nov      1\n",
       "430    SFO   Dec      1\n",
       "460    LAX   Dec      1\n",
       "471    ATL   Dec      1\n",
       "526    STL   Dec      1\n",
       "929    DEN   Dec      1\n",
       "1446   ORD   Dec      1\n",
       "Name: Month, dtype: int64"
      ]
     },
     "execution_count": 147,
     "metadata": {},
     "output_type": "execute_result"
    }
   ],
   "source": [
    "CancelledD=Cancelled.groupby(['count', 'Dest'])['Month'].value_counts().tail(10)\n",
    "CancelledD"
   ]
  },
  {
   "cell_type": "code",
   "execution_count": 154,
   "metadata": {},
   "outputs": [
    {
     "data": {
      "text/plain": [
       "count  Dest  Month\n",
       "257    DCA   Nov      1\n",
       "289    DTW   Dec      1\n",
       "337    ATL   Nov      1\n",
       "393    DEN   Nov      1\n",
       "430    SFO   Dec      1\n",
       "460    LAX   Dec      1\n",
       "471    ATL   Dec      1\n",
       "526    STL   Dec      1\n",
       "929    DEN   Dec      1\n",
       "1446   ORD   Dec      1\n",
       "Name: Month, dtype: int64"
      ]
     },
     "execution_count": 154,
     "metadata": {},
     "output_type": "execute_result"
    }
   ],
   "source": [
    "CancelledD"
   ]
  },
  {
   "cell_type": "code",
   "execution_count": 164,
   "metadata": {},
   "outputs": [
    {
     "data": {
      "image/png": "[encoded data removed]",
      "text/plain": [
       "<Figure size 432x288 with 1 Axes>"
      ]
     },
     "metadata": {
      "needs_background": "light"
     },
     "output_type": "display_data"
    }
   ],
   "source": [
    "\n",
    "ax = sb.scatterplot(x='Month', y='count', hue=\"Dest\", data=CancelledD,\n",
    "                      sizes=(200, 1000), alpha=1, palette=\"deep\")"
   ]
  },
  {
   "cell_type": "markdown",
   "metadata": {},
   "source": [
    "# "
   ]
  },
  {
   "cell_type": "code",
   "execution_count": 80,
   "metadata": {},
   "outputs": [],
   "source": [
    "Cancelled_df = df_copy[(df_copy['Cancelled']>0) &(df_copy['Month']=='Dec')\n",
    "                             ].groupby(['Dest', 'Month']).agg({'FlightNum' : 'count'}).rename(columns={'FlightNum':'count'}).reset_index()\n"
   ]
  },
  {
   "cell_type": "code",
   "execution_count": 153,
   "metadata": {
    "slideshow": {
     "slide_type": "skip"
    }
   },
   "outputs": [
    {
     "data": {
      "text/plain": [
       "Dest  Month  count\n",
       "YUM   Dec    2        1\n",
       "EYW   Dec    2        1\n",
       "GEG   Dec    19       1\n",
       "GCN   Dec    1        1\n",
       "FWA   Dec    14       1\n",
       "FSD   Dec    28       1\n",
       "FNT   Dec    1        1\n",
       "FLL   Dec    42       1\n",
       "FLG   Dec    7        1\n",
       "FAY   Dec    4        1\n",
       "dtype: int64"
      ]
     },
     "execution_count": 153,
     "metadata": {},
     "output_type": "execute_result"
    }
   ],
   "source": [
    "Cancelled_df.value_counts()[0:10]"
   ]
  },
  {
   "cell_type": "code",
   "execution_count": 95,
   "metadata": {
    "slideshow": {
     "slide_type": "skip"
    }
   },
   "outputs": [
    {
     "data": {
      "text/plain": [
       "Month  Dest  count\n",
       "Dec    ABE   12       1\n",
       "       ABQ   69       1\n",
       "       ACV   2        1\n",
       "       AGS   12       1\n",
       "       ALB   22       1\n",
       "       ALO   11       1\n",
       "       AMA   41       1\n",
       "       ANC   13       1\n",
       "       APF   1        1\n",
       "       ATL   471      1\n",
       "Name: count, dtype: int64"
      ]
     },
     "execution_count": 95,
     "metadata": {},
     "output_type": "execute_result"
    }
   ],
   "source": [
    "CancelledD=Cancelled_df.groupby(['Month', 'Dest'])['count'].value_counts()[0:10]\n",
    "CancelledD\n"
   ]
  },
  {
   "cell_type": "code",
   "execution_count": null,
   "metadata": {},
   "outputs": [],
   "source": []
  }
 ],
 "metadata": {
  "celltoolbar": "Slideshow",
  "kernelspec": {
   "display_name": "Python 3",
   "language": "python",
   "name": "python3"
  },
  "language_info": {
   "codemirror_mode": {
    "name": "ipython",
    "version": 3
   },
   "file_extension": ".py",
   "mimetype": "text/x-python",
   "name": "python",
   "nbconvert_exporter": "python",
   "pygments_lexer": "ipython3",
   "version": "3.8.5"
  }
 },
 "nbformat": 4,
 "nbformat_minor": 4
}
